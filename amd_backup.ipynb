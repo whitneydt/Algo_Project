{
 "cells": [
  {
   "cell_type": "code",
   "execution_count": 1,
   "id": "c6e630b7-4d3a-43ea-bbcd-3a88d2405b56",
   "metadata": {},
   "outputs": [],
   "source": [
    "import pandas as pd\n",
    "import tensorflow as tf\n",
    "from tensorflow import keras\n",
    "from tensorflow.keras import layers\n",
    "from tensorflow.keras.models import Sequential \n",
    "from tensorflow.keras.layers import LSTM, Dense, Dropout # For Dense import, all added layers are neurons in one layer that're connected as inputs to all the inputs in the next layer.\n",
    "# For Dense import, weights remove the neurons that don't need to be connected. These values get pushed down close to 0.\n",
    "from tensorflow.keras.optimizers import Adam, SGD\n",
    "import matplotlib.pyplot as plt\n",
    "import seaborn as sns\n",
    "import numpy as np\n",
    "from sklearn.model_selection import train_test_split\n",
    "from sklearn.preprocessing import StandardScaler\n",
    "from tensorflow.keras.layers import InputLayer\n",
    "from sklearn.preprocessing import Normalizer\n",
    "%matplotlib inline"
   ]
  },
  {
   "cell_type": "code",
   "execution_count": 2,
   "id": "8fd2e7ad-b3f1-46c6-9298-35ee91359965",
   "metadata": {
    "tags": []
   },
   "outputs": [],
   "source": [
    "import yfinance as yf\n",
    "amd = yf.Ticker(\"AMD\")\n",
    "amd_hist = amd.history(period=\"13y\")\n",
    "#amd_hist\n",
    "#amd.info # Stored in a dictionary with all kinds of info on the company"
   ]
  },
  {
   "cell_type": "code",
   "execution_count": 6,
   "id": "03f9f051-af01-4ac4-b354-42371ea7927d",
   "metadata": {
    "tags": []
   },
   "outputs": [
    {
     "data": {
      "text/html": [
       "<div>\n",
       "<style scoped>\n",
       "    .dataframe tbody tr th:only-of-type {\n",
       "        vertical-align: middle;\n",
       "    }\n",
       "\n",
       "    .dataframe tbody tr th {\n",
       "        vertical-align: top;\n",
       "    }\n",
       "\n",
       "    .dataframe thead th {\n",
       "        text-align: right;\n",
       "    }\n",
       "</style>\n",
       "<table border=\"1\" class=\"dataframe\">\n",
       "  <thead>\n",
       "    <tr style=\"text-align: right;\">\n",
       "      <th></th>\n",
       "      <th>Close</th>\n",
       "    </tr>\n",
       "    <tr>\n",
       "      <th>Date</th>\n",
       "      <th></th>\n",
       "    </tr>\n",
       "  </thead>\n",
       "  <tbody>\n",
       "    <tr>\n",
       "      <th>2021-08-23</th>\n",
       "      <td>108.769997</td>\n",
       "    </tr>\n",
       "    <tr>\n",
       "      <th>2021-08-24</th>\n",
       "      <td>107.650002</td>\n",
       "    </tr>\n",
       "    <tr>\n",
       "      <th>2021-08-25</th>\n",
       "      <td>108.300003</td>\n",
       "    </tr>\n",
       "    <tr>\n",
       "      <th>2021-08-26</th>\n",
       "      <td>107.269997</td>\n",
       "    </tr>\n",
       "    <tr>\n",
       "      <th>2021-08-27</th>\n",
       "      <td>111.400002</td>\n",
       "    </tr>\n",
       "  </tbody>\n",
       "</table>\n",
       "</div>"
      ],
      "text/plain": [
       "                 Close\n",
       "Date                  \n",
       "2021-08-23  108.769997\n",
       "2021-08-24  107.650002\n",
       "2021-08-25  108.300003\n",
       "2021-08-26  107.269997\n",
       "2021-08-27  111.400002"
      ]
     },
     "execution_count": 6,
     "metadata": {},
     "output_type": "execute_result"
    }
   ],
   "source": [
    "amd_df = amd_hist.drop(columns=['Stock Splits', 'Dividends', 'Open', 'Volume', 'High', 'Low'])\n",
    "amd_df.tail()"
   ]
  },
  {
   "cell_type": "code",
   "execution_count": 12,
   "id": "2a540d95-48cd-41cb-b11b-99673a7e61d2",
   "metadata": {},
   "outputs": [],
   "source": [
    "def window_data(amd_df, window, feature_col_number, target_col_number):\n",
    "    X = []\n",
    "    y = []\n",
    "    for i in range(len(amd_df) - window - 1):\n",
    "        features = amd_df.iloc[i:(i + window), feature_col_number]\n",
    "        target = amd_df.iloc[(i + window), target_col_number]\n",
    "        X.append(features)\n",
    "        y.append(target)\n",
    "    return np.array(X), np.array(y).reshape(-1, 1)"
   ]
  },
  {
   "cell_type": "code",
   "execution_count": 65,
   "id": "6e6820a7-f44c-4ac5-ab9f-8511950e4965",
   "metadata": {},
   "outputs": [],
   "source": [
    "window_size = 21\n",
    "\n",
    "feature_column = 0\n",
    "target_column = 0\n",
    "X, y = window_data(amd_df, window_size, feature_column, target_column)"
   ]
  },
  {
   "cell_type": "code",
   "execution_count": 66,
   "id": "27a785ab-6380-4704-a8f5-f13d19b5e786",
   "metadata": {},
   "outputs": [],
   "source": [
    "# Use 70% of the data for training and the remaineder for testing\n",
    "# YOUR CODE HERE!\n",
    "from sklearn.model_selection import train_test_split\n",
    "X_train, X_test, y_train, y_test = train_test_split(X, y, random_state=30)\n",
    "\n",
    "# Make x splits\n",
    "X_train_split = int(0.7 * len(X))\n",
    "X_train = X[: X_train_split]\n",
    "X_test_split = int(0.3 * len(X))\n",
    "X_test = X[X_test_split :]\n",
    "\n",
    "# Make y splits\n",
    "y_train_split = int(0.7 * len(y))\n",
    "y_train = y[: y_train_split]\n",
    "y_test_split = int(0.3 * len(y))\n",
    "y_test = y[y_test_split:]"
   ]
  },
  {
   "cell_type": "code",
   "execution_count": 67,
   "id": "f087a299-373f-4ab1-884c-5ec745cbe041",
   "metadata": {},
   "outputs": [
    {
     "data": {
      "text/plain": [
       "(2276, 21)"
      ]
     },
     "execution_count": 67,
     "metadata": {},
     "output_type": "execute_result"
    }
   ],
   "source": [
    "#print(X_test_scaled.describe())\n",
    "X_test.shape"
   ]
  },
  {
   "cell_type": "code",
   "execution_count": 68,
   "id": "e127fdfe-b3c0-4183-9b55-2f0d3e4b1a1e",
   "metadata": {},
   "outputs": [
    {
     "data": {
      "text/plain": [
       "(2275, 21)"
      ]
     },
     "execution_count": 68,
     "metadata": {},
     "output_type": "execute_result"
    }
   ],
   "source": [
    "#print(X_train_scaled.describe())\n",
    "X_train.shape"
   ]
  },
  {
   "cell_type": "code",
   "execution_count": 69,
   "id": "10bf864a-5c2f-4791-8ec4-bec457acc8f1",
   "metadata": {
    "tags": []
   },
   "outputs": [],
   "source": [
    "from sklearn.preprocessing import MinMaxScaler\n",
    "# Use the MinMaxScaler to scale data between 0 and 1.\n",
    "# YOUR CODE HERE!\n",
    "x_scaler = MinMaxScaler()\n",
    "y_scaler = MinMaxScaler() # Default is already feature_range=0,1\n",
    "\n",
    "# Training sets\n",
    "x_scaler.fit(X_train)\n",
    "y_scaler.fit(y_train)\n",
    "\n",
    "# Scaling for X sets\n",
    "#scaler = scaler.fit(X)\n",
    "X_train = x_scaler.transform(X_train)\n",
    "X_test = x_scaler.transform(X_test)\n",
    "\n",
    "# Scaling for y sets. y is already vertical so that's why I don't need to reshape that data\n",
    "#scaler.fit(y)\n",
    "y_train = y_scaler.transform(y_train)\n",
    "y_test = y_scaler.transform(y_test)"
   ]
  },
  {
   "cell_type": "code",
   "execution_count": 70,
   "id": "dcd4137b-a720-4d74-aac2-4182bef7ca83",
   "metadata": {},
   "outputs": [],
   "source": [
    "# Reshape X features \n",
    "X_train = X_train.reshape((X_train.shape[0], X_train.shape[1], 1))\n",
    "X_test = X_test.reshape((X_test.shape[0], X_test.shape[1], 1))"
   ]
  },
  {
   "cell_type": "code",
   "execution_count": 71,
   "id": "705996f0-cb8b-49c7-bf43-f8ff386fe858",
   "metadata": {},
   "outputs": [],
   "source": [
    "model = Sequential()\n",
    "\n",
    "num_unitz = 15 # Okay to change. \n",
    "drop_prct = .05 # Okay to change. \n",
    "\n",
    "# Layer 1\n",
    "model.add(LSTM(units=num_unitz, return_sequences=True, input_shape = ((X_train.shape[1], 1)))) \n",
    "# 3D array is as follows = (batch_size of 3, time steps of 1, & number of units in 1 input sequence)\n",
    "model.add(Dropout(drop_prct))\n",
    "# Layer 2\n",
    "model.add(LSTM(units=num_unitz, return_sequences=True))\n",
    "model.add(Dropout(drop_prct)) \n",
    "# Layer 3\n",
    "model.add(LSTM(units=num_unitz))\n",
    "model.add(Dropout(drop_prct))\n",
    "# Output Layer\n",
    "model.add(Dense(1))"
   ]
  },
  {
   "cell_type": "code",
   "execution_count": 72,
   "id": "ecea20aa-c9f2-44d6-a6ce-a7774528f5e9",
   "metadata": {
    "tags": []
   },
   "outputs": [],
   "source": [
    "model.compile(optimizer=\"adam\", loss=\"mean_squared_error\") "
   ]
  },
  {
   "cell_type": "code",
   "execution_count": 73,
   "id": "dad324f7-d167-43d1-a25c-d1d3f5bdabc2",
   "metadata": {},
   "outputs": [
    {
     "name": "stdout",
     "output_type": "stream",
     "text": [
      "Model: \"sequential_5\"\n",
      "_________________________________________________________________\n",
      "Layer (type)                 Output Shape              Param #   \n",
      "=================================================================\n",
      "lstm_12 (LSTM)               (None, 21, 15)            1020      \n",
      "_________________________________________________________________\n",
      "dropout_12 (Dropout)         (None, 21, 15)            0         \n",
      "_________________________________________________________________\n",
      "lstm_13 (LSTM)               (None, 21, 15)            1860      \n",
      "_________________________________________________________________\n",
      "dropout_13 (Dropout)         (None, 21, 15)            0         \n",
      "_________________________________________________________________\n",
      "lstm_14 (LSTM)               (None, 15)                1860      \n",
      "_________________________________________________________________\n",
      "dropout_14 (Dropout)         (None, 15)                0         \n",
      "_________________________________________________________________\n",
      "dense_4 (Dense)              (None, 1)                 16        \n",
      "=================================================================\n",
      "Total params: 4,756\n",
      "Trainable params: 4,756\n",
      "Non-trainable params: 0\n",
      "_________________________________________________________________\n"
     ]
    }
   ],
   "source": [
    "model.summary()"
   ]
  },
  {
   "cell_type": "code",
   "execution_count": 74,
   "id": "07e3b44c-21dc-4027-96a3-86b4d24b6ee0",
   "metadata": {},
   "outputs": [
    {
     "name": "stdout",
     "output_type": "stream",
     "text": [
      "Epoch 1/12\n",
      "2275/2275 [==============================] - 27s 10ms/step - loss: 0.0022\n",
      "Epoch 2/12\n",
      "2275/2275 [==============================] - 23s 10ms/step - loss: 0.0038\n",
      "Epoch 3/12\n",
      "2275/2275 [==============================] - 23s 10ms/step - loss: 0.0050\n",
      "Epoch 4/12\n",
      "2275/2275 [==============================] - 23s 10ms/step - loss: 0.0061\n",
      "Epoch 5/12\n",
      "2275/2275 [==============================] - 23s 10ms/step - loss: 0.0083\n",
      "Epoch 6/12\n",
      "2275/2275 [==============================] - 23s 10ms/step - loss: 0.0096\n",
      "Epoch 7/12\n",
      "2275/2275 [==============================] - 23s 10ms/step - loss: 0.0119\n",
      "Epoch 8/12\n",
      "2275/2275 [==============================] - 23s 10ms/step - loss: 0.0108\n",
      "Epoch 9/12\n",
      "2275/2275 [==============================] - 23s 10ms/step - loss: 0.0077\n",
      "Epoch 10/12\n",
      "2275/2275 [==============================] - 23s 10ms/step - loss: 0.0070\n",
      "Epoch 11/12\n",
      "2275/2275 [==============================] - 23s 10ms/step - loss: 0.0046\n",
      "Epoch 12/12\n",
      "2275/2275 [==============================] - 23s 10ms/step - loss: 0.0043\n"
     ]
    },
    {
     "data": {
      "text/plain": [
       "<tensorflow.python.keras.callbacks.History at 0x12b9d5ad0a0>"
      ]
     },
     "execution_count": 74,
     "metadata": {},
     "output_type": "execute_result"
    }
   ],
   "source": [
    "model.fit(X_train, y_train, epochs=12, shuffle=False, batch_size=1, verbose=1)"
   ]
  },
  {
   "cell_type": "code",
   "execution_count": 75,
   "id": "69f0781b-d56e-4071-89c0-72b72e351530",
   "metadata": {},
   "outputs": [
    {
     "data": {
      "text/plain": [
       "4.414052486419678"
      ]
     },
     "execution_count": 75,
     "metadata": {},
     "output_type": "execute_result"
    }
   ],
   "source": [
    "# Model evaluation\n",
    "# 1st attempt was a tad bit off...\n",
    "model.evaluate(X_test, y_test, verbose=0)"
   ]
  },
  {
   "cell_type": "code",
   "execution_count": 76,
   "id": "1f8fe203-d1ce-406f-9309-61373253df26",
   "metadata": {},
   "outputs": [],
   "source": [
    "X_prediction = model.predict(X_test)"
   ]
  },
  {
   "cell_type": "code",
   "execution_count": 80,
   "id": "4e5cc002-4778-4c5e-9586-3b8fe7fa56a0",
   "metadata": {},
   "outputs": [],
   "source": [
    "# Original prices\n",
    "predicted_prices = y_scaler.inverse_transform(X_prediction)\n",
    "real_prices = y_scaler.inverse_transform(y_test.reshape(-1, 1))"
   ]
  },
  {
   "cell_type": "code",
   "execution_count": 81,
   "id": "d7259f9b-9282-4d20-ab4e-e15da54c0723",
   "metadata": {},
   "outputs": [
    {
     "data": {
      "text/html": [
       "<div>\n",
       "<style scoped>\n",
       "    .dataframe tbody tr th:only-of-type {\n",
       "        vertical-align: middle;\n",
       "    }\n",
       "\n",
       "    .dataframe tbody tr th {\n",
       "        vertical-align: top;\n",
       "    }\n",
       "\n",
       "    .dataframe thead th {\n",
       "        text-align: right;\n",
       "    }\n",
       "</style>\n",
       "<table border=\"1\" class=\"dataframe\">\n",
       "  <thead>\n",
       "    <tr style=\"text-align: right;\">\n",
       "      <th></th>\n",
       "      <th>Real</th>\n",
       "      <th>Predicted</th>\n",
       "    </tr>\n",
       "    <tr>\n",
       "      <th>Date</th>\n",
       "      <th></th>\n",
       "      <th></th>\n",
       "    </tr>\n",
       "  </thead>\n",
       "  <tbody>\n",
       "    <tr>\n",
       "      <th>2012-08-13</th>\n",
       "      <td>4.34</td>\n",
       "      <td>10.535440</td>\n",
       "    </tr>\n",
       "    <tr>\n",
       "      <th>2012-08-14</th>\n",
       "      <td>4.26</td>\n",
       "      <td>10.602674</td>\n",
       "    </tr>\n",
       "    <tr>\n",
       "      <th>2012-08-15</th>\n",
       "      <td>4.12</td>\n",
       "      <td>10.651533</td>\n",
       "    </tr>\n",
       "    <tr>\n",
       "      <th>2012-08-16</th>\n",
       "      <td>4.19</td>\n",
       "      <td>10.668330</td>\n",
       "    </tr>\n",
       "    <tr>\n",
       "      <th>2012-08-17</th>\n",
       "      <td>4.17</td>\n",
       "      <td>10.672535</td>\n",
       "    </tr>\n",
       "  </tbody>\n",
       "</table>\n",
       "</div>"
      ],
      "text/plain": [
       "            Real  Predicted\n",
       "Date                       \n",
       "2012-08-13  4.34  10.535440\n",
       "2012-08-14  4.26  10.602674\n",
       "2012-08-15  4.12  10.651533\n",
       "2012-08-16  4.19  10.668330\n",
       "2012-08-17  4.17  10.672535"
      ]
     },
     "execution_count": 81,
     "metadata": {},
     "output_type": "execute_result"
    }
   ],
   "source": [
    "amd_prices = pd.DataFrame({\n",
    "    \"Real\": real_prices.ravel(),\n",
    "    \"Predicted\": predicted_prices.ravel()\n",
    "}, index = amd_df.index[-len(real_prices): ]) \n",
    "amd_prices.head()"
   ]
  },
  {
   "cell_type": "code",
   "execution_count": 82,
   "id": "6648eb29-af22-4bc6-9ecc-886d74695ac2",
   "metadata": {},
   "outputs": [
    {
     "data": {
      "text/plain": [
       "<AxesSubplot:title={'center':'Real prices vs. Predictions'}, xlabel='Date'>"
      ]
     },
     "execution_count": 82,
     "metadata": {},
     "output_type": "execute_result"
    },
    {
     "data": {
      "image/png": "[encoded data removed]",
      "text/plain": [
       "<Figure size 432x288 with 1 Axes>"
      ]
     },
     "metadata": {
      "needs_background": "light"
     },
     "output_type": "display_data"
    }
   ],
   "source": [
    "# Not even close\n",
    "amd_prices.plot(title=\"Real prices vs. Predictions\")"
   ]
  },
  {
   "cell_type": "code",
   "execution_count": null,
   "id": "f1d48c99-77ff-4d24-b9f2-8e951fd57e14",
   "metadata": {},
   "outputs": [],
   "source": []
  }
 ],
 "metadata": {
  "kernelspec": {
   "display_name": "tailoredenv",
   "language": "python",
   "name": "tailoredenv"
  },
  "language_info": {
   "codemirror_mode": {
    "name": "ipython",
    "version": 3
   },
   "file_extension": ".py",
   "mimetype": "text/x-python",
   "name": "python",
   "nbconvert_exporter": "python",
   "pygments_lexer": "ipython3",
   "version": "3.8.5"
  }
 },
 "nbformat": 4,
 "nbformat_minor": 5
}
