{
 "cells": [
  {
   "cell_type": "code",
   "execution_count": 153,
   "id": "c6e630b7-4d3a-43ea-bbcd-3a88d2405b56",
   "metadata": {},
   "outputs": [],
   "source": [
    "import pandas as pd\n",
    "import tensorflow as tf\n",
    "from tensorflow import keras\n",
    "from tensorflow.keras import layers\n",
    "from tensorflow.keras.models import Sequential \n",
    "from tensorflow.keras.layers import LSTM, Dense, Dropout # For Dense import, all added layers are neurons in one layer that're connected as inputs to all the inputs in the next layer.\n",
    "# For Dense import, weights remove the neurons that don't need to be connected. These values get pushed down close to 0.\n",
    "from tensorflow.keras.optimizers import Adam, SGD\n",
    "import matplotlib.pyplot as plt\n",
    "import seaborn as sns\n",
    "import numpy as np\n",
    "from sklearn.model_selection import train_test_split\n",
    "from sklearn.preprocessing import StandardScaler\n",
    "from sklearn.compose import ColumnTransformer\n",
    "from tensorflow.keras.layers import InputLayer\n",
    "from sklearn.preprocessing import Normalizer\n",
    "%matplotlib inline"
   ]
  },
  {
   "cell_type": "code",
   "execution_count": 3,
   "id": "8fd2e7ad-b3f1-46c6-9298-35ee91359965",
   "metadata": {
    "tags": []
   },
   "outputs": [],
   "source": [
    "import yfinance as yf\n",
    "amd = yf.Ticker(\"AMD\")\n",
    "amd_hist = amd.history(period=\"13y\")\n",
    "#amd_hist\n",
    "#amd.info # Stored in a dictionary with all kinds of info on the company"
   ]
  },
  {
   "cell_type": "code",
   "execution_count": 6,
   "id": "03f9f051-af01-4ac4-b354-42371ea7927d",
   "metadata": {
    "tags": []
   },
   "outputs": [],
   "source": [
    "#amd_df = amd_hist.drop(columns=['Stock Splits', 'Dividends', 'Open', 'Volume'])\n",
    "#amd_df"
   ]
  },
  {
   "cell_type": "code",
   "execution_count": 57,
   "id": "2a540d95-48cd-41cb-b11b-99673a7e61d2",
   "metadata": {},
   "outputs": [],
   "source": [
    "# Split for features & target\n",
    "X = amd_df.iloc[:, 0:3]\n",
    "y = amd_df.iloc[:,-1]\n",
    "# X = pd.get_dummies(X) Not needed since all columns are already numerical values\n",
    "# Training gets 80%, testing gets 20%\n",
    "X_train, X_test, y_train, y_test = train_test_split(X, y, test_size=0.20, random_state=40)\n",
    "# Normalize works better \n",
    "y_column_transform = ColumnTransformer([('normalize', Normalizer(), [('Close')])])\n",
    "X_column_transform = ColumnTransformer([('normalize', Normalizer(), ['High','Low','Close'])], remainder='passthrough')"
   ]
  },
  {
   "cell_type": "code",
   "execution_count": 58,
   "id": "6e6820a7-f44c-4ac5-ab9f-8511950e4965",
   "metadata": {},
   "outputs": [],
   "source": [
    "X_train_scaled = X_column_transform.fit_transform(X_train)\n",
    "X_test_scaled = X_column_transform.transform(X_test)"
   ]
  },
  {
   "cell_type": "code",
   "execution_count": 59,
   "id": "27a785ab-6380-4704-a8f5-f13d19b5e786",
   "metadata": {},
   "outputs": [],
   "source": [
    "X_train_scaled = pd.DataFrame(X_train_scaled, columns = X_train.columns)\n",
    "X_test_scaled = pd.DataFrame(X_test_scaled, columns = X_test.columns)"
   ]
  },
  {
   "cell_type": "code",
   "execution_count": 123,
   "id": "f087a299-373f-4ab1-884c-5ec745cbe041",
   "metadata": {},
   "outputs": [
    {
     "data": {
      "text/plain": [
       "(655, 3)"
      ]
     },
     "execution_count": 123,
     "metadata": {},
     "output_type": "execute_result"
    }
   ],
   "source": [
    "#print(X_test_scaled.describe())\n",
    "X_test_scaled.shape"
   ]
  },
  {
   "cell_type": "code",
   "execution_count": 126,
   "id": "e127fdfe-b3c0-4183-9b55-2f0d3e4b1a1e",
   "metadata": {},
   "outputs": [
    {
     "data": {
      "text/plain": [
       "(2618, 3)"
      ]
     },
     "execution_count": 126,
     "metadata": {},
     "output_type": "execute_result"
    }
   ],
   "source": [
    "#print(X_train_scaled.describe())\n",
    "X_train_scaled.shape"
   ]
  },
  {
   "cell_type": "code",
   "execution_count": 161,
   "id": "10bf864a-5c2f-4791-8ec4-bec457acc8f1",
   "metadata": {
    "tags": []
   },
   "outputs": [],
   "source": [
    "# Sequential model\n",
    "def sequential_model(X):\n",
    "    model = keras.Sequential()\n",
    "    # Currently unsure of how to add in the intended 3D structure that LSTM layers typically have (Samples, Time Steps, Features)\n",
    "    input_layer = InputLayer(input_shape = (X.shape[1],), name = 'layer1')\n",
    "    model.add(input_layer)\n",
    "    # Hidden layer\n",
    "    model.add(Dense(64, activation='relu'))\n",
    "    # Output layer\n",
    "    model.add(Dense(3))\n",
    "    return model"
   ]
  },
  {
   "cell_type": "code",
   "execution_count": 164,
   "id": "705996f0-cb8b-49c7-bf43-f8ff386fe858",
   "metadata": {},
   "outputs": [],
   "source": [
    "model = design_model(X_train)\n",
    "# To check that the list is empty: print(model.layers)\n",
    "# print(model.summary())\n",
    "model.compile(loss = 'mse', metrics = ['mae'], optimizer = Adam(learning_rate = 0.01))"
   ]
  },
  {
   "cell_type": "code",
   "execution_count": 165,
   "id": "ecea20aa-c9f2-44d6-a6ce-a7774528f5e9",
   "metadata": {},
   "outputs": [
    {
     "name": "stdout",
     "output_type": "stream",
     "text": [
      "Epoch 1/25\n",
      "873/873 [==============================] - 1s 533us/step - loss: 11.9854 - mae: 0.7661 - accuracy: 3.8197e-04\n",
      "Epoch 2/25\n",
      "873/873 [==============================] - 0s 543us/step - loss: 4.1576 - mae: 0.5106 - accuracy: 0.0000e+00\n",
      "Epoch 3/25\n",
      "873/873 [==============================] - 0s 562us/step - loss: 0.8083 - mae: 0.3245 - accuracy: 3.8197e-04\n",
      "Epoch 4/25\n",
      "873/873 [==============================] - 0s 546us/step - loss: 1.5505 - mae: 0.4760 - accuracy: 3.8197e-04\n",
      "Epoch 5/25\n",
      "873/873 [==============================] - 0s 534us/step - loss: 2.6721 - mae: 0.3780 - accuracy: 3.8197e-04\n",
      "Epoch 6/25\n",
      "873/873 [==============================] - 0s 538us/step - loss: 0.6835 - mae: 0.3448 - accuracy: 3.8197e-04\n",
      "Epoch 7/25\n",
      "873/873 [==============================] - 0s 549us/step - loss: 0.5991 - mae: 0.3243 - accuracy: 0.0000e+00\n",
      "Epoch 8/25\n",
      "873/873 [==============================] - 0s 536us/step - loss: 0.4036 - mae: 0.2723 - accuracy: 0.0000e+00\n",
      "Epoch 9/25\n",
      "873/873 [==============================] - 0s 536us/step - loss: 1.1884 - mae: 0.4587 - accuracy: 7.6394e-04\n",
      "Epoch 10/25\n",
      "873/873 [==============================] - 0s 541us/step - loss: 0.6495 - mae: 0.3438 - accuracy: 7.6394e-04\n",
      "Epoch 11/25\n",
      "873/873 [==============================] - 0s 534us/step - loss: 1.5003 - mae: 0.4146 - accuracy: 3.8197e-04\n",
      "Epoch 12/25\n",
      "873/873 [==============================] - 0s 538us/step - loss: 0.3863 - mae: 0.2596 - accuracy: 3.8197e-04\n",
      "Epoch 13/25\n",
      "873/873 [==============================] - 0s 529us/step - loss: 0.8623 - mae: 0.3406 - accuracy: 3.8197e-04\n",
      "Epoch 14/25\n",
      "873/873 [==============================] - 0s 534us/step - loss: 0.9019 - mae: 0.3624 - accuracy: 3.8197e-04\n",
      "Epoch 15/25\n",
      "873/873 [==============================] - 0s 529us/step - loss: 0.4404 - mae: 0.2638 - accuracy: 0.0000e+00\n",
      "Epoch 16/25\n",
      "873/873 [==============================] - 0s 534us/step - loss: 0.5210 - mae: 0.2964 - accuracy: 0.0000e+00\n",
      "Epoch 17/25\n",
      "873/873 [==============================] - 0s 535us/step - loss: 1.4239 - mae: 0.3841 - accuracy: 3.8197e-04\n",
      "Epoch 18/25\n",
      "873/873 [==============================] - 0s 548us/step - loss: 0.1485 - mae: 0.1829 - accuracy: 7.6394e-04\n",
      "Epoch 19/25\n",
      "873/873 [==============================] - 0s 536us/step - loss: 0.3954 - mae: 0.2302 - accuracy: 7.6394e-04\n",
      "Epoch 20/25\n",
      "873/873 [==============================] - 0s 545us/step - loss: 0.2519 - mae: 0.2234 - accuracy: 7.6394e-04\n",
      "Epoch 21/25\n",
      "873/873 [==============================] - 0s 569us/step - loss: 0.2485 - mae: 0.2286 - accuracy: 7.6394e-04\n",
      "Epoch 22/25\n",
      "873/873 [==============================] - 0s 529us/step - loss: 0.7033 - mae: 0.2814 - accuracy: 0.0000e+00\n",
      "Epoch 23/25\n",
      "873/873 [==============================] - 0s 536us/step - loss: 0.0981 - mae: 0.1497 - accuracy: 3.8197e-04\n",
      "Epoch 24/25\n",
      "873/873 [==============================] - 0s 551us/step - loss: 0.2802 - mae: 0.2232 - accuracy: 0.0000e+00\n",
      "Epoch 25/25\n",
      "873/873 [==============================] - 0s 542us/step - loss: 1.0159 - mae: 0.3342 - accuracy: 0.0000e+00\n"
     ]
    },
    {
     "ename": "ValueError",
     "evalue": "too many values to unpack (expected 2)",
     "output_type": "error",
     "traceback": [
      "\u001b[1;31m---------------------------------------------------------------------------\u001b[0m",
      "\u001b[1;31mValueError\u001b[0m                                Traceback (most recent call last)",
      "\u001b[1;32m<ipython-input-165-b4f554283311>\u001b[0m in \u001b[0;36m<module>\u001b[1;34m\u001b[0m\n\u001b[0;32m      1\u001b[0m \u001b[0mmodel\u001b[0m\u001b[1;33m.\u001b[0m\u001b[0mfit\u001b[0m\u001b[1;33m(\u001b[0m\u001b[0mX_train\u001b[0m\u001b[1;33m,\u001b[0m \u001b[0my_train\u001b[0m\u001b[1;33m,\u001b[0m \u001b[0mepochs\u001b[0m\u001b[1;33m=\u001b[0m\u001b[1;36m25\u001b[0m\u001b[1;33m,\u001b[0m \u001b[0mbatch_size\u001b[0m \u001b[1;33m=\u001b[0m \u001b[1;36m3\u001b[0m\u001b[1;33m,\u001b[0m \u001b[0mverbose\u001b[0m\u001b[1;33m=\u001b[0m\u001b[1;36m1\u001b[0m\u001b[1;33m)\u001b[0m\u001b[1;33m\u001b[0m\u001b[1;33m\u001b[0m\u001b[0m\n\u001b[1;32m----> 2\u001b[1;33m \u001b[0mval_mse\u001b[0m\u001b[1;33m,\u001b[0m \u001b[0mval_mae\u001b[0m \u001b[1;33m=\u001b[0m \u001b[0mmodel\u001b[0m\u001b[1;33m.\u001b[0m\u001b[0mevaluate\u001b[0m\u001b[1;33m(\u001b[0m\u001b[0mX_test\u001b[0m\u001b[1;33m,\u001b[0m \u001b[0my_test\u001b[0m\u001b[1;33m,\u001b[0m \u001b[0mverbose\u001b[0m \u001b[1;33m=\u001b[0m \u001b[1;36m0\u001b[0m\u001b[1;33m)\u001b[0m\u001b[1;33m\u001b[0m\u001b[1;33m\u001b[0m\u001b[0m\n\u001b[0m",
      "\u001b[1;31mValueError\u001b[0m: too many values to unpack (expected 2)"
     ]
    }
   ],
   "source": [
    "model.fit(X_train, y_train, epochs=25, batch_size = 3, verbose=1)\n",
    "val_mse, val_mae = model.evaluate(X_test, y_test, verbose = 0)"
   ]
  },
  {
   "cell_type": "code",
   "execution_count": null,
   "id": "dad324f7-d167-43d1-a25c-d1d3f5bdabc2",
   "metadata": {},
   "outputs": [],
   "source": []
  },
  {
   "cell_type": "code",
   "execution_count": 158,
   "id": "07e3b44c-21dc-4027-96a3-86b4d24b6ee0",
   "metadata": {},
   "outputs": [],
   "source": [
    "# Neurons for the layer\n",
    "layer = layers.Dense(2618)\n",
    "inputz = tf.ones((2618, 3))\n",
    "output = layer(inputz)\n",
    "#print(layer.weights)"
   ]
  },
  {
   "cell_type": "code",
   "execution_count": null,
   "id": "69f0781b-d56e-4071-89c0-72b72e351530",
   "metadata": {},
   "outputs": [],
   "source": []
  },
  {
   "cell_type": "code",
   "execution_count": null,
   "id": "1f8fe203-d1ce-406f-9309-61373253df26",
   "metadata": {},
   "outputs": [],
   "source": []
  }
 ],
 "metadata": {
  "kernelspec": {
   "display_name": "tailoredenv",
   "language": "python",
   "name": "tailoredenv"
  },
  "language_info": {
   "codemirror_mode": {
    "name": "ipython",
    "version": 3
   },
   "file_extension": ".py",
   "mimetype": "text/x-python",
   "name": "python",
   "nbconvert_exporter": "python",
   "pygments_lexer": "ipython3",
   "version": "3.8.5"
  }
 },
 "nbformat": 4,
 "nbformat_minor": 5
}
