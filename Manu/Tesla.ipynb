{
 "cells": [
  {
   "cell_type": "code",
   "execution_count": null,
   "id": "dea4874e-f052-4487-9aba-7c16634bd31d",
   "metadata": {},
   "outputs": [],
   "source": [
    "import numpy as np\n",
    "import pandas as pd\n",
    "import yfinance as yf\n",
    "import hvplot.pandas\n",
    "import plotly.graph_objs as go\n",
    "from newsapi.newsapi_client import NewsApiClient\n",
    "from nltk.sentiment.vader import SentimentIntensityAnalyzer\n",
    "from pathlib import Path\n",
    "import os\n",
    "from datetime import datetime, timedelta\n",
    "import pandas as pd\n",
    "import mplfinance as mpf"
   ]
  },
  {
   "cell_type": "code",
   "execution_count": null,
   "id": "ff618857-dbc4-4f3d-b8f4-5f62f9277f6f",
   "metadata": {},
   "outputs": [],
   "source": [
    "#pull data from yahoo finance\n",
    "data =yf.download(tickers='TSLA', period='max', interval = '1d', start='2007-01-01')"
   ]
  },
  {
   "cell_type": "code",
   "execution_count": null,
   "id": "3f6845e0-a38e-412b-96ba-4204d4100e8a",
   "metadata": {},
   "outputs": [],
   "source": [
    "# Show Data\n",
    "print(data)"
   ]
  },
  {
   "cell_type": "code",
   "execution_count": null,
   "id": "e34fe00a-8aef-4b42-8254-a0f184141b43",
   "metadata": {},
   "outputs": [],
   "source": [
    "# build dataframe\n",
    "\n",
    "TSLA_df = pd.DataFrame(data)\n",
    "TSLA_df.head(10)\n",
    "\n",
    "# change df to csv\n",
    "TSLA_csv = TSLA_df.to_csv('/users/manu/desktop/project_2/tesla_csv', index=True)\n",
    "\n",
    "#Show the df\n",
    "TSLA_df.head(10)\n"
   ]
  },
  {
   "cell_type": "code",
   "execution_count": null,
   "id": "2f781c1f-b956-408e-9f3c-b712be5f856c",
   "metadata": {},
   "outputs": [],
   "source": [
    "#Show Close Only\n",
    "TSLA_close = TSLA_df.drop(columns =['Open','High','Low','Adj Close','Volume'])\n",
    "TSLA_close.head(10)"
   ]
  },
  {
   "cell_type": "code",
   "execution_count": null,
   "id": "5af39971-c1ea-4e67-ad45-758dae35a82b",
   "metadata": {},
   "outputs": [],
   "source": [
    "TSLA_returns = TSLA_close.pct_change().dropna()\n",
    "TSLA_returns"
   ]
  },
  {
   "cell_type": "code",
   "execution_count": null,
   "id": "9b447a27-798b-403a-92c6-945a2fbf8f01",
   "metadata": {},
   "outputs": [],
   "source": [
    "# Access to the News Api\n",
    "newsapi = NewsApiClient(api_key='ce3e78ab07ed4649a677e4da44c06a82')"
   ]
  },
  {
   "cell_type": "code",
   "execution_count": null,
   "id": "c2c28246-89d7-4f80-8f41-d11d4ebc6336",
   "metadata": {},
   "outputs": [],
   "source": [
    "# Set current date and the date from one month ago using the ISO format\n",
    "current_date = pd.Timestamp(datetime.now(), tz=\"America/New_York\").isoformat()\n",
    "past_date = pd.Timestamp(datetime.now()- timedelta(30), tz=\"America/New_York\").isoformat()"
   ]
  },
  {
   "cell_type": "code",
   "execution_count": null,
   "id": "f3247c99-0157-4971-8043-8d7a85248e11",
   "metadata": {},
   "outputs": [],
   "source": [
    "# Define a function to build news df\n",
    "def create_df(news, language):\n",
    "    articles = []\n",
    "    for article in news:\n",
    "        try:\n",
    "            title = article[\"title\"]\n",
    "            description = article[\"description\"]\n",
    "            text = article[\"content\"]\n",
    "            date = article[\"publishedAt\"][:10]\n",
    "\n",
    "            articles.append({\n",
    "                \"title\": title,\n",
    "                \"description\": description,\n",
    "                \"text\": text,\n",
    "                \"date\": date,\n",
    "                \"language\": language\n",
    "            })\n",
    "        except AttributeError:\n",
    "            pass\n",
    "\n",
    "    return pd.DataFrame(articles)"
   ]
  },
  {
   "cell_type": "code",
   "execution_count": null,
   "id": "89d50566-d4e5-40f6-83a8-2d4b1460aae0",
   "metadata": {},
   "outputs": [],
   "source": [
    "# Pull all the Tesla Stock headlines data from 2008 \n",
    "TSLA_news_en = newsapi.get_everything(\n",
    "    q=\" TSLA AND Tesla AND 2008\",\n",
    "    language=\"en\"\n",
    ")"
   ]
  },
  {
   "cell_type": "code",
   "execution_count": null,
   "id": "e343877b-3ba0-4c8c-948c-31a94285dc04",
   "metadata": {},
   "outputs": [],
   "source": [
    "# Show the total number of news\n",
    "print(TSLA_news_en[\"totalResults\"])"
   ]
  },
  {
   "cell_type": "code",
   "execution_count": null,
   "id": "f64365bc-6f1f-4edf-b94d-aa514dd307f9",
   "metadata": {},
   "outputs": [],
   "source": [
    "# Create a DataFrame with the Tesla News\n",
    "TSLA_en_df = create_df(TSLA_news_en[\"articles\"], \"en\")\n",
    "TSLA_en_df"
   ]
  },
  {
   "cell_type": "code",
   "execution_count": null,
   "id": "0f4c44bd-0bb3-4b43-88cf-42e4be31ca5f",
   "metadata": {},
   "outputs": [],
   "source": [
    "# Create CSV from News df\n",
    "TSLA_en_df.to_csv('/users/manu/desktop/project_2/TSLA_csv', index=False, encoding='utf-8-sig')"
   ]
  },
  {
   "cell_type": "code",
   "execution_count": null,
   "id": "e68e582b-4442-4e09-a290-cdcf18ae1589",
   "metadata": {},
   "outputs": [],
   "source": [
    "# define  sentiment analysis  \n",
    "TSLA_sentiment = []\n",
    "analyzer = SentimentIntensityAnalyzer()\n",
    "\n",
    "for article in TSLA_news_en['articles']:\n",
    "    try:\n",
    "        date = article[\"publishedAt\"][:10]\n",
    "        text = article[\"content\"][0:198]\n",
    "        sentiment = analyzer.polarity_scores(text)\n",
    "        pos = sentiment['pos']\n",
    "        neu = sentiment[\"neu\"]\n",
    "        neg = sentiment[\"neg\"]\n",
    "        compound = sentiment[\"compound\"] \n",
    "        \n",
    "        TSLA_sentiment.append({\n",
    "            \"text\": text,\n",
    "            \"date\": date,\n",
    "            \"positive\": pos,\n",
    "            \"neutral\": neu,\n",
    "            \"negative\": neg,\n",
    "            \"compound\": compound \n",
    "        })\n",
    "        \n",
    "    except AttributeError:\n",
    "        pass"
   ]
  },
  {
   "cell_type": "code",
   "execution_count": null,
   "id": "1480d93e-ebfc-4a31-9ed4-c1a2402c1002",
   "metadata": {},
   "outputs": [],
   "source": [
    "# Build a SIA DF\n",
    "TSLA_S_df = pd.DataFrame(TSLA_sentiment) \n",
    "cols = ['date', 'positive', 'neutral', 'negative', 'compound', 'text']\n",
    "TSLA_S_df = TSLA_S_df[cols] \n",
    "TSLA_S_df.describe()"
   ]
  },
  {
   "cell_type": "code",
   "execution_count": null,
   "id": "b17cf09b-39de-4a79-a2f1-7a37fe276aa6",
   "metadata": {},
   "outputs": [],
   "source": [
    "#Display a candle stick chart\n",
    "fig = go.Figure(data=[go.Candlestick(x=TSLA_df.index,\n",
    "                open=TSLA_df['Open'],\n",
    "                high=TSLA_df['High'],\n",
    "                low=TSLA_df['Low'],\n",
    "                close=TSLA_df['Close'])])\n",
    "\n",
    "fig.show()"
   ]
  },
  {
   "cell_type": "code",
   "execution_count": null,
   "id": "3864db85-0d9f-4780-9bc9-224f83623bbc",
   "metadata": {},
   "outputs": [],
   "source": []
  },
  {
   "cell_type": "code",
   "execution_count": null,
   "id": "46bca8cc-b8f7-41b5-9e38-8a0e4821265b",
   "metadata": {},
   "outputs": [],
   "source": []
  },
  {
   "cell_type": "code",
   "execution_count": null,
   "id": "de66a22a-7072-450a-8420-61b837d32838",
   "metadata": {},
   "outputs": [],
   "source": []
  },
  {
   "cell_type": "code",
   "execution_count": null,
   "id": "3527cee7-fde2-45f7-8de4-d447ac4391fe",
   "metadata": {},
   "outputs": [],
   "source": []
  },
  {
   "cell_type": "code",
   "execution_count": null,
   "id": "e2da21fd-d4ec-4ef3-b163-bf9ce2a14ac4",
   "metadata": {},
   "outputs": [],
   "source": []
  },
  {
   "cell_type": "code",
   "execution_count": null,
   "id": "eaaf2c63-fd46-475c-b0f3-cad1eca90cdf",
   "metadata": {},
   "outputs": [],
   "source": []
  },
  {
   "cell_type": "code",
   "execution_count": null,
   "id": "57054f6f-0262-4a9c-b74c-a26238b1cf3d",
   "metadata": {},
   "outputs": [],
   "source": []
  },
  {
   "cell_type": "code",
   "execution_count": null,
   "id": "507e7dcc-459c-4b3e-b425-a146bcdd71de",
   "metadata": {},
   "outputs": [],
   "source": []
  }
 ],
 "metadata": {
  "kernelspec": {
   "display_name": "Python 3",
   "language": "python",
   "name": "python3"
  },
  "language_info": {
   "codemirror_mode": {
    "name": "ipython",
    "version": 3
   },
   "file_extension": ".py",
   "mimetype": "text/x-python",
   "name": "python",
   "nbconvert_exporter": "python",
   "pygments_lexer": "ipython3",
   "version": "3.8.2"
  }
 },
 "nbformat": 4,
 "nbformat_minor": 5
}
