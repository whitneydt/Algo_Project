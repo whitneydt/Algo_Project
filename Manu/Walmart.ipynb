{
 "cells": [
  {
   "cell_type": "code",
   "execution_count": null,
   "id": "717c4116-a10f-4e48-9174-581c20570a2c",
   "metadata": {},
   "outputs": [],
   "source": [
    "# Show imports\n",
    "import numpy as np\n",
    "import pandas as pd\n",
    "import yfinance as yf\n",
    "import hvplot.pandas\n",
    "import plotly.graph_objs as go\n",
    "from newsapi.newsapi_client import NewsApiClient\n",
    "from nltk.sentiment.vader import SentimentIntensityAnalyzer\n",
    "from pathlib import Path\n",
    "import os\n",
    "from datetime import datetime, timedelta\n",
    "import pandas as pd\n",
    "import mplfinance as mpf"
   ]
  },
  {
   "cell_type": "code",
   "execution_count": null,
   "id": "7a77e076-7be9-4277-a8bc-a8718b25b3be",
   "metadata": {},
   "outputs": [],
   "source": [
    "#pull data from yahoo finance\n",
    "data =yf.download(tickers='WMT', period='max', interval = '1d', start='2007-01-01')"
   ]
  },
  {
   "cell_type": "code",
   "execution_count": null,
   "id": "433f4921-647e-4686-ab3a-4fc75868552e",
   "metadata": {},
   "outputs": [],
   "source": [
    "# Show data\n",
    "print(data)"
   ]
  },
  {
   "cell_type": "code",
   "execution_count": null,
   "id": "99c702fd-0790-4fef-9481-740c000eaaf0",
   "metadata": {},
   "outputs": [],
   "source": [
    "# build dataframe\n",
    "\n",
    "WMT_df = pd.DataFrame(data)\n",
    "WMT_df.head(10)\n",
    "\n",
    "# change df to csv\n",
    "WMT_csv = WMT_df.to_csv('/users/manu/desktop/project_2/walmart_csv', index=True)\n",
    "\n",
    "#Show the df\n",
    "WMT_df.head(10)\n"
   ]
  },
  {
   "cell_type": "code",
   "execution_count": null,
   "id": "a3da89d9-8043-4fc4-9858-f61a6f7fd9e3",
   "metadata": {},
   "outputs": [],
   "source": [
    "#Show Close Only\n",
    "WMT_close = WMT_df.drop(columns =['Open','High','Low','Adj Close','Volume'])\n",
    "WMT_close.head(10)"
   ]
  },
  {
   "cell_type": "code",
   "execution_count": null,
   "id": "4faf0f81-ad50-4bbb-be0a-7ce99d9a442e",
   "metadata": {},
   "outputs": [],
   "source": [
    "WMT_returns = WMT_close.pct_change().dropna()\n",
    "WMT_returns"
   ]
  },
  {
   "cell_type": "code",
   "execution_count": null,
   "id": "c9f5a3a1-babd-4091-af41-1f358909c937",
   "metadata": {},
   "outputs": [],
   "source": [
    "# Access to the News Api\n",
    "newsapi = NewsApiClient(api_key='ce3e78ab07ed4649a677e4da44c06a82')"
   ]
  },
  {
   "cell_type": "code",
   "execution_count": null,
   "id": "f19c8c24-1a30-4d7a-a042-f639082bce32",
   "metadata": {},
   "outputs": [],
   "source": [
    "# Set current date and the date from one month ago using the ISO format\n",
    "current_date = pd.Timestamp(datetime.now(), tz=\"America/New_York\").isoformat()\n",
    "past_date = pd.Timestamp(datetime.now()- timedelta(30), tz=\"America/New_York\").isoformat()"
   ]
  },
  {
   "cell_type": "code",
   "execution_count": null,
   "id": "99ce66a7-1839-4ea6-8c45-8dd686ef3d7c",
   "metadata": {},
   "outputs": [],
   "source": [
    "# Define a function to build news df\n",
    "def create_df(news, language):\n",
    "    articles = []\n",
    "    for article in news:\n",
    "        try:\n",
    "            title = article[\"title\"]\n",
    "            description = article[\"description\"]\n",
    "            text = article[\"content\"]\n",
    "            date = article[\"publishedAt\"][:10]\n",
    "\n",
    "            articles.append({\n",
    "                \"title\": title,\n",
    "                \"description\": description,\n",
    "                \"text\": text,\n",
    "                \"date\": date,\n",
    "                \"language\": language\n",
    "            })\n",
    "        except AttributeError:\n",
    "            pass\n",
    "\n",
    "    return pd.DataFrame(articles)"
   ]
  },
  {
   "cell_type": "code",
   "execution_count": null,
   "id": "7499f1f8-dfea-492b-be87-c92bf6cc2428",
   "metadata": {},
   "outputs": [],
   "source": [
    "# Pull all the Walmart Stock headlines data from 2008 \n",
    "WMT_news_en = newsapi.get_everything(\n",
    "    q=\" WMT AND Walmart AND 2008\",\n",
    "    language=\"en\"\n",
    ")"
   ]
  },
  {
   "cell_type": "code",
   "execution_count": null,
   "id": "4268f1db-fe86-4a45-bd4b-16d565136ed1",
   "metadata": {},
   "outputs": [],
   "source": [
    "# Show the total number of news\n",
    "print(WMT_news_en[\"totalResults\"])"
   ]
  },
  {
   "cell_type": "code",
   "execution_count": null,
   "id": "f7881b69-8a9d-43d0-b964-b1ff1a7cb52e",
   "metadata": {},
   "outputs": [],
   "source": [
    "# Create a DataFrame with the Walmart News\n",
    "WMT_en_df = create_df(WMT_news_en[\"articles\"], \"en\")\n",
    "WMT_en_df"
   ]
  },
  {
   "cell_type": "code",
   "execution_count": null,
   "id": "8a3a17c5-df67-4f42-8d4f-bd802503ba0b",
   "metadata": {},
   "outputs": [],
   "source": [
    "# Create CSV from News df\n",
    "WMT_en_df.to_csv('/users/manu/desktop/project_2/WMT_csv', index=False, encoding='utf-8-sig')"
   ]
  },
  {
   "cell_type": "code",
   "execution_count": null,
   "id": "659448a4-d4cc-4bff-ac57-51fdbeec35ed",
   "metadata": {},
   "outputs": [],
   "source": [
    "# define  sentiment analysis  \n",
    "WMT_sentiment = []\n",
    "analyzer = SentimentIntensityAnalyzer()\n",
    "\n",
    "for article in WMT_news_en['articles']:\n",
    "    try:\n",
    "        date = article[\"publishedAt\"][:10]\n",
    "        text = article[\"content\"][0:198]\n",
    "        sentiment = analyzer.polarity_scores(text)\n",
    "        pos = sentiment['pos']\n",
    "        neu = sentiment[\"neu\"]\n",
    "        neg = sentiment[\"neg\"]\n",
    "        compound = sentiment[\"compound\"] \n",
    "        \n",
    "        WMT_sentiment.append({\n",
    "            \"text\": text,\n",
    "            \"date\": date,\n",
    "            \"positive\": pos,\n",
    "            \"neutral\": neu,\n",
    "            \"negative\": neg,\n",
    "            \"compound\": compound \n",
    "        })\n",
    "        \n",
    "    except AttributeError:\n",
    "        pass"
   ]
  },
  {
   "cell_type": "code",
   "execution_count": null,
   "id": "f98fb816-55f3-47dd-a315-47b194f540b7",
   "metadata": {},
   "outputs": [],
   "source": [
    "# Build a SIA DF\n",
    "WMT_S_df = pd.DataFrame(WMT_sentiment) \n",
    "cols = ['date', 'positive', 'neutral', 'negative', 'compound', 'text']\n",
    "WMT_S_df = WMT_S_df[cols] \n",
    "WMT_S_df.describe()"
   ]
  },
  {
   "cell_type": "code",
   "execution_count": null,
   "id": "f4a97432-ccbd-47c2-a343-2e55cac791fb",
   "metadata": {},
   "outputs": [],
   "source": [
    "#Display a candle stick chart\n",
    "fig = go.Figure(data=[go.Candlestick(x=WMT_df.index,\n",
    "                open=WMT_df['Open'],\n",
    "                high=WMT_df['High'],\n",
    "                low=WMT_df['Low'],\n",
    "                close=WMT_df['Close'])])\n",
    "\n",
    "fig.show()"
   ]
  },
  {
   "cell_type": "code",
   "execution_count": null,
   "id": "a8b3975b-b6c2-481a-869c-fec36091c096",
   "metadata": {},
   "outputs": [],
   "source": []
  },
  {
   "cell_type": "code",
   "execution_count": null,
   "id": "9096cc8e-363c-46ef-887c-9f49082721cf",
   "metadata": {},
   "outputs": [],
   "source": []
  },
  {
   "cell_type": "code",
   "execution_count": null,
   "id": "e108f2eb-bef0-4334-be3f-7962c673a5bf",
   "metadata": {},
   "outputs": [],
   "source": []
  },
  {
   "cell_type": "code",
   "execution_count": null,
   "id": "9dc81952-7eae-4c31-af76-667baf7fc1e7",
   "metadata": {},
   "outputs": [],
   "source": []
  }
 ],
 "metadata": {
  "kernelspec": {
   "display_name": "Python 3",
   "language": "python",
   "name": "python3"
  },
  "language_info": {
   "codemirror_mode": {
    "name": "ipython",
    "version": 3
   },
   "file_extension": ".py",
   "mimetype": "text/x-python",
   "name": "python",
   "nbconvert_exporter": "python",
   "pygments_lexer": "ipython3",
   "version": "3.8.2"
  }
 },
 "nbformat": 4,
 "nbformat_minor": 5
}
