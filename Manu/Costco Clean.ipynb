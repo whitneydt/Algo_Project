{
 "cells": [
  {
   "cell_type": "code",
   "execution_count": null,
   "id": "2542f041-9392-4988-8e26-b50314adef16",
   "metadata": {},
   "outputs": [],
   "source": [
    "# Imports\n",
    "import numpy as np\n",
    "import pandas as pd\n",
    "import yfinance as yf\n",
    "import hvplot.pandas\n",
    "import plotly.graph_objs as go\n",
    "from newsapi.newsapi_client import NewsApiClient\n",
    "from nltk.sentiment.vader import SentimentIntensityAnalyzer\n",
    "from pathlib import Path\n",
    "import os\n",
    "from datetime import datetime, timedelta\n",
    "import pandas as pd\n",
    "import mplfinance as mpf"
   ]
  },
  {
   "cell_type": "code",
   "execution_count": null,
   "id": "b64d3df5-60e2-496e-b6c0-4d68532456a5",
   "metadata": {},
   "outputs": [],
   "source": [
    "#pull data from yahoo finance\n",
    "data =yf.download(tickers='COST', period='max', interval = '1d', start='2007-01-01')"
   ]
  },
  {
   "cell_type": "code",
   "execution_count": null,
   "id": "cc10f610-24d8-4669-9b94-79dad3126f85",
   "metadata": {},
   "outputs": [],
   "source": [
    "# Show Data\n",
    "print(data)"
   ]
  },
  {
   "cell_type": "code",
   "execution_count": null,
   "id": "2ceb6cc9-312a-4643-bcc2-487cda951e2b",
   "metadata": {},
   "outputs": [],
   "source": [
    "# build dataframe\n",
    "\n",
    "cost_df = pd.DataFrame(data)\n",
    "cost_df.head(10)\n",
    "\n",
    "# change df to csv\n",
    "cost_csv = cost_df.to_csv('/users/manu/desktop/project_2/cost_csv', index=True)\n",
    "\n",
    "#Show the df\n",
    "cost_df.head(10)\n",
    "# cost_df['Costco']= cost_df['Close']"
   ]
  },
  {
   "cell_type": "code",
   "execution_count": null,
   "id": "48aa7da1-d2c3-4316-afbf-3c2411b7bf96",
   "metadata": {},
   "outputs": [],
   "source": [
    "#Show Close Only\n",
    "Cost_close = cost_df.drop(columns =['Open','High','Low','Adj Close','Volume'])\n",
    "Cost_close.head(10)"
   ]
  },
  {
   "cell_type": "code",
   "execution_count": null,
   "id": "b9ffa6c7-5345-4a62-b6dd-4b1cc71a874e",
   "metadata": {},
   "outputs": [],
   "source": [
    "Cost_returns = Cost_close.pct_change().dropna()\n",
    "Cost_returns"
   ]
  },
  {
   "cell_type": "code",
   "execution_count": null,
   "id": "27206221-bb8e-4667-9469-262310996a65",
   "metadata": {},
   "outputs": [],
   "source": [
    "# Access to the News Api\n",
    "newsapi = NewsApiClient(api_key='ce3e78ab07ed4649a677e4da44c06a82')"
   ]
  },
  {
   "cell_type": "code",
   "execution_count": null,
   "id": "6907f99c-dcac-4c8c-bee0-8e7baa3fce09",
   "metadata": {},
   "outputs": [],
   "source": [
    "# Set current date and the date from one month ago using the ISO format\n",
    "current_date = pd.Timestamp(datetime.now(), tz=\"America/New_York\").isoformat()\n",
    "past_date = pd.Timestamp(datetime.now()- timedelta(30), tz=\"America/New_York\").isoformat()\n"
   ]
  },
  {
   "cell_type": "code",
   "execution_count": null,
   "id": "ad6d16e0-70ee-47c5-9df8-c31aee549ad8",
   "metadata": {},
   "outputs": [],
   "source": [
    "# Define a function to build news df\n",
    "def create_df(news, language):\n",
    "    articles = []\n",
    "    for article in news:\n",
    "        try:\n",
    "            title = article[\"title\"]\n",
    "            description = article[\"description\"]\n",
    "            text = article[\"content\"]\n",
    "            date = article[\"publishedAt\"][:10]\n",
    "\n",
    "            articles.append({\n",
    "                \"title\": title,\n",
    "                \"description\": description,\n",
    "                \"text\": text,\n",
    "                \"date\": date,\n",
    "                \"language\": language\n",
    "            })\n",
    "        except AttributeError:\n",
    "            pass\n",
    "\n",
    "    return pd.DataFrame(articles)"
   ]
  },
  {
   "cell_type": "code",
   "execution_count": null,
   "id": "95c00059-7213-45a6-943a-817bada5639a",
   "metadata": {},
   "outputs": [],
   "source": [
    "# Pull all the Costco Stock headlines data from 2008 \n",
    "Cost_news_en = newsapi.get_everything(\n",
    "    q=\" COST AND Costco AND 2008\",\n",
    "    language=\"en\"\n",
    ")\n",
    "# Get first topic\n",
    "# aapl_headlines, dates = get_headlines(\"apple\")\n",
    "\n",
    "# Show the total number of news\n",
    "print(Cost_news_en[\"totalResults\"])"
   ]
  },
  {
   "cell_type": "code",
   "execution_count": null,
   "id": "462f1413-5169-469e-ab58-33a58942888b",
   "metadata": {},
   "outputs": [],
   "source": [
    "# Create a DataFrame with the Costco News\n",
    "Cost_en_df = create_df(Cost_news_en[\"articles\"], \"en\")\n",
    "Cost_en_df"
   ]
  },
  {
   "cell_type": "code",
   "execution_count": null,
   "id": "318f6a88-4e01-4648-9a2e-110e93cd386c",
   "metadata": {},
   "outputs": [],
   "source": [
    "# Create CSV from News df\n",
    "Cost_en_df.to_csv('/users/manu/desktop/project_2/cost_csv', index=False, encoding='utf-8-sig')"
   ]
  },
  {
   "cell_type": "code",
   "execution_count": null,
   "id": "50246f78-edb4-40fe-9ed5-45a402b8ffb6",
   "metadata": {},
   "outputs": [],
   "source": [
    "# Build a sentiment analysis df \n",
    "\n",
    "Cost_sentiment = []\n",
    "analyzer = SentimentIntensityAnalyzer()\n",
    "\n",
    "for article in Cost_news_en['articles']:\n",
    "    try:\n",
    "        date = article[\"publishedAt\"][:10]\n",
    "        text = article[\"content\"][0:198]\n",
    "        sentiment = analyzer.polarity_scores(text)\n",
    "        pos = sentiment['pos']\n",
    "        neu = sentiment[\"neu\"]\n",
    "        neg = sentiment[\"neg\"]\n",
    "        compound = sentiment[\"compound\"] \n",
    "        \n",
    "        Cost_sentiment.append({\n",
    "            \"text\": text,\n",
    "            \"date\": date,\n",
    "            \"positive\": pos,\n",
    "            \"neutral\": neu,\n",
    "            \"negative\": neg,\n",
    "            \"compound\": compound \n",
    "        })\n",
    "        \n",
    "    except AttributeError:\n",
    "        pass\n",
    "\n",
    "Cost_S_df = pd.DataFrame(Cost_sentiment) \n",
    "cols = ['date', 'positive', 'neutral', 'negative', 'compound', 'text']\n",
    "Cost_S_df = Cost_df[cols] \n",
    "Cost_S_df.describe()"
   ]
  },
  {
   "cell_type": "code",
   "execution_count": null,
   "id": "b5e1c1e5-691f-4962-800b-12a4fea844bd",
   "metadata": {},
   "outputs": [],
   "source": [
    "#Display a candle stick chart\n",
    "fig = go.Figure(data=[go.Candlestick(x=cost_df.index,\n",
    "                open=cost_df['Open'],\n",
    "                high=cost_df['High'],\n",
    "                low=cost_df['Low'],\n",
    "                close=cost_df['Close'])])\n",
    "\n",
    "fig.show()"
   ]
  },
  {
   "cell_type": "code",
   "execution_count": null,
   "id": "9232662b-5aa0-4608-a660-8203c02b8186",
   "metadata": {},
   "outputs": [],
   "source": []
  }
 ],
 "metadata": {
  "kernelspec": {
   "display_name": "Python 3",
   "language": "python",
   "name": "python3"
  },
  "language_info": {
   "codemirror_mode": {
    "name": "ipython",
    "version": 3
   },
   "file_extension": ".py",
   "mimetype": "text/x-python",
   "name": "python",
   "nbconvert_exporter": "python",
   "pygments_lexer": "ipython3",
   "version": "3.8.2"
  }
 },
 "nbformat": 4,
 "nbformat_minor": 5
}
