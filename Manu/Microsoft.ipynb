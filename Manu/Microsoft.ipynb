{
 "cells": [
  {
   "cell_type": "code",
   "execution_count": null,
   "id": "31f09f63-fa3c-4f08-8c5b-281c5a231565",
   "metadata": {},
   "outputs": [],
   "source": [
    "# Imports\n",
    "import numpy as np\n",
    "import pandas as pd\n",
    "import yfinance as yf\n",
    "import hvplot.pandas\n",
    "import plotly.graph_objs as go\n",
    "from newsapi.newsapi_client import NewsApiClient\n",
    "from nltk.sentiment.vader import SentimentIntensityAnalyzer\n",
    "from pathlib import Path\n",
    "import os\n",
    "from datetime import datetime, timedelta\n",
    "import pandas as pd\n",
    "import mplfinance as mpf"
   ]
  },
  {
   "cell_type": "code",
   "execution_count": null,
   "id": "12b62fb0-9946-465e-9235-633169b55a12",
   "metadata": {},
   "outputs": [],
   "source": [
    "#pull data from yahoo finance\n",
    "data =yf.download(tickers='MSFT', period='max', interval = '1d', start='2007-01-01')"
   ]
  },
  {
   "cell_type": "code",
   "execution_count": null,
   "id": "e8766ba8-b371-44c2-a8e8-d2c9a4753263",
   "metadata": {},
   "outputs": [],
   "source": [
    "# Show Data\n",
    "print(data)"
   ]
  },
  {
   "cell_type": "code",
   "execution_count": null,
   "id": "a25d9871-a1d6-4a1a-835f-5a18d803aba4",
   "metadata": {},
   "outputs": [],
   "source": [
    "# build dataframe\n",
    "\n",
    "MSFT_df = pd.DataFrame(data)\n",
    "MSFT_df.head(10)\n",
    "\n",
    "# change df to csv\n",
    "MSFT_csv = MSFT_df.to_csv('/users/manu/desktop/project_2/MSFT_csv', index=True)\n",
    "\n",
    "#Show the df\n",
    "MSFT_df.head(10)\n"
   ]
  },
  {
   "cell_type": "code",
   "execution_count": null,
   "id": "233a7c21-c385-48aa-a9cd-60793546d905",
   "metadata": {},
   "outputs": [],
   "source": [
    "#Show Close Only\n",
    "MSFT_close = MSFT_df.drop(columns =['Open','High','Low','Adj Close','Volume'])\n",
    "MSFT_close.head(10)"
   ]
  },
  {
   "cell_type": "code",
   "execution_count": null,
   "id": "3fcd3861-da87-4f9a-83ab-10103b75c351",
   "metadata": {},
   "outputs": [],
   "source": [
    "MSFT_returns = MSFT_close.pct_change().dropna()\n",
    "MSFT_returns"
   ]
  },
  {
   "cell_type": "code",
   "execution_count": null,
   "id": "3f673814-a6fa-442b-aede-a6a488163e8d",
   "metadata": {},
   "outputs": [],
   "source": [
    "# Access to the News Api\n",
    "newsapi = NewsApiClient(api_key='ce3e78ab07ed4649a677e4da44c06a82')"
   ]
  },
  {
   "cell_type": "code",
   "execution_count": null,
   "id": "def76fcc-5134-4b77-ba17-58f160461214",
   "metadata": {},
   "outputs": [],
   "source": [
    "# Set current date and the date from one month ago using the ISO format\n",
    "current_date = pd.Timestamp(datetime.now(), tz=\"America/New_York\").isoformat()\n",
    "past_date = pd.Timestamp(datetime.now()- timedelta(30), tz=\"America/New_York\").isoformat()"
   ]
  },
  {
   "cell_type": "code",
   "execution_count": null,
   "id": "3187fc20-6321-44b5-b63b-160b7e9e9eca",
   "metadata": {},
   "outputs": [],
   "source": [
    "# Define a function to build news df\n",
    "def create_df(news, language):\n",
    "    articles = []\n",
    "    for article in news:\n",
    "        try:\n",
    "            title = article[\"title\"]\n",
    "            description = article[\"description\"]\n",
    "            text = article[\"content\"]\n",
    "            date = article[\"publishedAt\"][:10]\n",
    "\n",
    "            articles.append({\n",
    "                \"title\": title,\n",
    "                \"description\": description,\n",
    "                \"text\": text,\n",
    "                \"date\": date,\n",
    "                \"language\": language\n",
    "            })\n",
    "        except AttributeError:\n",
    "            pass\n",
    "\n",
    "    return pd.DataFrame(articles)"
   ]
  },
  {
   "cell_type": "code",
   "execution_count": null,
   "id": "83bb6fb8-9894-4ceb-938a-1bd8c5c59f2c",
   "metadata": {},
   "outputs": [],
   "source": [
    "# Pull all the Microsoft Stock headlines data from 2008 \n",
    "MSFT_news_en = newsapi.get_everything(\n",
    "    q=\" MSFT AND Microsoft AND 2008\",\n",
    "    language=\"en\"\n",
    ")"
   ]
  },
  {
   "cell_type": "code",
   "execution_count": null,
   "id": "91217e9e-8775-4038-8729-0ff20822cf57",
   "metadata": {},
   "outputs": [],
   "source": [
    "# Show the total number of news\n",
    "print(MSFT_news_en[\"totalResults\"])"
   ]
  },
  {
   "cell_type": "code",
   "execution_count": null,
   "id": "35a78b0e-9f2c-4534-ab67-b1f67421695f",
   "metadata": {},
   "outputs": [],
   "source": [
    "# Create a DataFrame with the Microsoft News\n",
    "MSFT_en_df = create_df(MSFT_news_en[\"articles\"], \"en\")\n",
    "MSFT_en_df"
   ]
  },
  {
   "cell_type": "code",
   "execution_count": null,
   "id": "b9b4f6f4-badc-49bc-9311-a2516ae69091",
   "metadata": {},
   "outputs": [],
   "source": [
    "# Create CSV from News df\n",
    "MSFT_en_df.to_csv('/users/manu/desktop/project_2/MSFT_csv', index=False, encoding='utf-8-sig')"
   ]
  },
  {
   "cell_type": "code",
   "execution_count": null,
   "id": "2814d4d1-5a60-434f-a5a0-b86ba58d4dd4",
   "metadata": {},
   "outputs": [],
   "source": [
    "# define  sentiment analysis  \n",
    "MSFT_sentiment = []\n",
    "analyzer = SentimentIntensityAnalyzer()\n",
    "\n",
    "for article in MSFT_news_en['articles']:\n",
    "    try:\n",
    "        date = article[\"publishedAt\"][:10]\n",
    "        text = article[\"content\"][0:198]\n",
    "        sentiment = analyzer.polarity_scores(text)\n",
    "        pos = sentiment['pos']\n",
    "        neu = sentiment[\"neu\"]\n",
    "        neg = sentiment[\"neg\"]\n",
    "        compound = sentiment[\"compound\"] \n",
    "        \n",
    "        MSFT_sentiment.append({\n",
    "            \"text\": text,\n",
    "            \"date\": date,\n",
    "            \"positive\": pos,\n",
    "            \"neutral\": neu,\n",
    "            \"negative\": neg,\n",
    "            \"compound\": compound \n",
    "        })\n",
    "        \n",
    "    except AttributeError:\n",
    "        pass"
   ]
  },
  {
   "cell_type": "code",
   "execution_count": null,
   "id": "0650e92a-e7d2-406b-a3ec-50b2884cb1a0",
   "metadata": {},
   "outputs": [],
   "source": [
    "# Build a SIA DF\n",
    "MSFT_S_df = pd.DataFrame(MSFT_sentiment) \n",
    "cols = ['date', 'positive', 'neutral', 'negative', 'compound', 'text']\n",
    "MSFT_S_df = MSFT_S_df[cols] \n",
    "MSFT_S_df.describe()"
   ]
  },
  {
   "cell_type": "code",
   "execution_count": null,
   "id": "6172ab2e-0102-413a-bca7-2ce1a8f24aa2",
   "metadata": {},
   "outputs": [],
   "source": [
    "#Display a candle stick chart\n",
    "fig = go.Figure(data=[go.Candlestick(x=MSFT_df.index,\n",
    "                open=MSFT_df['Open'],\n",
    "                high=MSFT_df['High'],\n",
    "                low=MSFT_df['Low'],\n",
    "                close=MSFT_df['Close'])])\n",
    "\n",
    "fig.show()"
   ]
  },
  {
   "cell_type": "code",
   "execution_count": null,
   "id": "15692e58-57ae-4268-b7ad-107e633683f0",
   "metadata": {},
   "outputs": [],
   "source": []
  },
  {
   "cell_type": "code",
   "execution_count": null,
   "id": "4b7aee14-7b8c-4591-9c0d-3e9f8324b408",
   "metadata": {},
   "outputs": [],
   "source": []
  },
  {
   "cell_type": "code",
   "execution_count": null,
   "id": "42c4ff8d-f849-4f06-b0a6-060584577c3e",
   "metadata": {},
   "outputs": [],
   "source": []
  }
 ],
 "metadata": {
  "kernelspec": {
   "display_name": "Python 3",
   "language": "python",
   "name": "python3"
  },
  "language_info": {
   "codemirror_mode": {
    "name": "ipython",
    "version": 3
   },
   "file_extension": ".py",
   "mimetype": "text/x-python",
   "name": "python",
   "nbconvert_exporter": "python",
   "pygments_lexer": "ipython3",
   "version": "3.8.2"
  }
 },
 "nbformat": 4,
 "nbformat_minor": 5
}
