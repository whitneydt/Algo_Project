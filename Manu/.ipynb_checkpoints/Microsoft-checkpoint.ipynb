{
 "cells": [
  {
   "cell_type": "code",
   "execution_count": 2,
   "id": "31f09f63-fa3c-4f08-8c5b-281c5a231565",
   "metadata": {},
   "outputs": [],
   "source": [
    "import numpy as np\n",
    "import pandas as pd\n",
    "import yfinance as yf\n",
    "import hvplot.pandas\n",
    "import plotly.graph_objs as go\n",
    "from newsapi.newsapi_client import NewsApiClient\n",
    "from nltk.sentiment.vader import SentimentIntensityAnalyzer\n",
    "from pathlib import Path\n",
    "import os\n",
    "from datetime import datetime, timedelta\n",
    "import pandas as pd\n",
    "import mplfinance as mpf"
   ]
  },
  {
   "cell_type": "code",
   "execution_count": 3,
   "id": "12b62fb0-9946-465e-9235-633169b55a12",
   "metadata": {},
   "outputs": [
    {
     "name": "stdout",
     "output_type": "stream",
     "text": [
      "[*********************100%***********************]  1 of 1 completed\n"
     ]
    }
   ],
   "source": [
    "#pull data from yahoo finance\n",
    "data =yf.download(tickers='TSLA', period='max', interval = '1d', start='2007-01-01')"
   ]
  },
  {
   "cell_type": "code",
   "execution_count": 4,
   "id": "e8766ba8-b371-44c2-a8e8-d2c9a4753263",
   "metadata": {},
   "outputs": [
    {
     "data": {
      "text/html": [
       "<div>\n",
       "<style scoped>\n",
       "    .dataframe tbody tr th:only-of-type {\n",
       "        vertical-align: middle;\n",
       "    }\n",
       "\n",
       "    .dataframe tbody tr th {\n",
       "        vertical-align: top;\n",
       "    }\n",
       "\n",
       "    .dataframe thead th {\n",
       "        text-align: right;\n",
       "    }\n",
       "</style>\n",
       "<table border=\"1\" class=\"dataframe\">\n",
       "  <thead>\n",
       "    <tr style=\"text-align: right;\">\n",
       "      <th></th>\n",
       "      <th>Open</th>\n",
       "      <th>High</th>\n",
       "      <th>Low</th>\n",
       "      <th>Close</th>\n",
       "      <th>Adj Close</th>\n",
       "      <th>Volume</th>\n",
       "    </tr>\n",
       "    <tr>\n",
       "      <th>Date</th>\n",
       "      <th></th>\n",
       "      <th></th>\n",
       "      <th></th>\n",
       "      <th></th>\n",
       "      <th></th>\n",
       "      <th></th>\n",
       "    </tr>\n",
       "  </thead>\n",
       "  <tbody>\n",
       "    <tr>\n",
       "      <th>2010-06-29</th>\n",
       "      <td>3.800000</td>\n",
       "      <td>5.000000</td>\n",
       "      <td>3.508000</td>\n",
       "      <td>4.778000</td>\n",
       "      <td>4.778000</td>\n",
       "      <td>93831500</td>\n",
       "    </tr>\n",
       "    <tr>\n",
       "      <th>2010-06-30</th>\n",
       "      <td>5.158000</td>\n",
       "      <td>6.084000</td>\n",
       "      <td>4.660000</td>\n",
       "      <td>4.766000</td>\n",
       "      <td>4.766000</td>\n",
       "      <td>85935500</td>\n",
       "    </tr>\n",
       "    <tr>\n",
       "      <th>2010-07-01</th>\n",
       "      <td>5.000000</td>\n",
       "      <td>5.184000</td>\n",
       "      <td>4.054000</td>\n",
       "      <td>4.392000</td>\n",
       "      <td>4.392000</td>\n",
       "      <td>41094000</td>\n",
       "    </tr>\n",
       "    <tr>\n",
       "      <th>2010-07-02</th>\n",
       "      <td>4.600000</td>\n",
       "      <td>4.620000</td>\n",
       "      <td>3.742000</td>\n",
       "      <td>3.840000</td>\n",
       "      <td>3.840000</td>\n",
       "      <td>25699000</td>\n",
       "    </tr>\n",
       "    <tr>\n",
       "      <th>2010-07-06</th>\n",
       "      <td>4.000000</td>\n",
       "      <td>4.000000</td>\n",
       "      <td>3.166000</td>\n",
       "      <td>3.222000</td>\n",
       "      <td>3.222000</td>\n",
       "      <td>34334500</td>\n",
       "    </tr>\n",
       "    <tr>\n",
       "      <th>...</th>\n",
       "      <td>...</td>\n",
       "      <td>...</td>\n",
       "      <td>...</td>\n",
       "      <td>...</td>\n",
       "      <td>...</td>\n",
       "      <td>...</td>\n",
       "    </tr>\n",
       "    <tr>\n",
       "      <th>2021-07-21</th>\n",
       "      <td>659.609985</td>\n",
       "      <td>664.859985</td>\n",
       "      <td>650.289978</td>\n",
       "      <td>655.289978</td>\n",
       "      <td>655.289978</td>\n",
       "      <td>13953300</td>\n",
       "    </tr>\n",
       "    <tr>\n",
       "      <th>2021-07-22</th>\n",
       "      <td>656.440002</td>\n",
       "      <td>662.169983</td>\n",
       "      <td>644.599976</td>\n",
       "      <td>649.260010</td>\n",
       "      <td>649.260010</td>\n",
       "      <td>15105700</td>\n",
       "    </tr>\n",
       "    <tr>\n",
       "      <th>2021-07-23</th>\n",
       "      <td>646.359985</td>\n",
       "      <td>648.799988</td>\n",
       "      <td>637.299988</td>\n",
       "      <td>643.380005</td>\n",
       "      <td>643.380005</td>\n",
       "      <td>14581300</td>\n",
       "    </tr>\n",
       "    <tr>\n",
       "      <th>2021-07-26</th>\n",
       "      <td>650.969971</td>\n",
       "      <td>668.200012</td>\n",
       "      <td>647.109985</td>\n",
       "      <td>657.619995</td>\n",
       "      <td>657.619995</td>\n",
       "      <td>25044100</td>\n",
       "    </tr>\n",
       "    <tr>\n",
       "      <th>2021-07-27</th>\n",
       "      <td>663.400024</td>\n",
       "      <td>666.469971</td>\n",
       "      <td>627.239990</td>\n",
       "      <td>644.780029</td>\n",
       "      <td>644.780029</td>\n",
       "      <td>32475284</td>\n",
       "    </tr>\n",
       "  </tbody>\n",
       "</table>\n",
       "<p>2789 rows × 6 columns</p>\n",
       "</div>"
      ],
      "text/plain": [
       "                  Open        High         Low       Close   Adj Close  \\\n",
       "Date                                                                     \n",
       "2010-06-29    3.800000    5.000000    3.508000    4.778000    4.778000   \n",
       "2010-06-30    5.158000    6.084000    4.660000    4.766000    4.766000   \n",
       "2010-07-01    5.000000    5.184000    4.054000    4.392000    4.392000   \n",
       "2010-07-02    4.600000    4.620000    3.742000    3.840000    3.840000   \n",
       "2010-07-06    4.000000    4.000000    3.166000    3.222000    3.222000   \n",
       "...                ...         ...         ...         ...         ...   \n",
       "2021-07-21  659.609985  664.859985  650.289978  655.289978  655.289978   \n",
       "2021-07-22  656.440002  662.169983  644.599976  649.260010  649.260010   \n",
       "2021-07-23  646.359985  648.799988  637.299988  643.380005  643.380005   \n",
       "2021-07-26  650.969971  668.200012  647.109985  657.619995  657.619995   \n",
       "2021-07-27  663.400024  666.469971  627.239990  644.780029  644.780029   \n",
       "\n",
       "              Volume  \n",
       "Date                  \n",
       "2010-06-29  93831500  \n",
       "2010-06-30  85935500  \n",
       "2010-07-01  41094000  \n",
       "2010-07-02  25699000  \n",
       "2010-07-06  34334500  \n",
       "...              ...  \n",
       "2021-07-21  13953300  \n",
       "2021-07-22  15105700  \n",
       "2021-07-23  14581300  \n",
       "2021-07-26  25044100  \n",
       "2021-07-27  32475284  \n",
       "\n",
       "[2789 rows x 6 columns]"
      ]
     },
     "execution_count": 4,
     "metadata": {},
     "output_type": "execute_result"
    }
   ],
   "source": [
    "data"
   ]
  },
  {
   "cell_type": "code",
   "execution_count": null,
   "id": "a25d9871-a1d6-4a1a-835f-5a18d803aba4",
   "metadata": {},
   "outputs": [],
   "source": [
    "# build dataframe\n",
    "\n",
    "TSLA_df = pd.DataFrame(data)\n",
    "TSLA_df.head(10)\n",
    "\n",
    "# change df to csv\n",
    "TSLA_csv = TSLA_df.to_csv('/users/manu/desktop/project_2/walmart_csv', index=True)\n",
    "\n",
    "#Show the df\n",
    "TSLA_df.head(10)\n"
   ]
  },
  {
   "cell_type": "code",
   "execution_count": null,
   "id": "233a7c21-c385-48aa-a9cd-60793546d905",
   "metadata": {},
   "outputs": [],
   "source": [
    "#Show Close Only\n",
    "TSLA_close = TSLA_df.drop(columns =['Open','High','Low','Adj Close','Volume'])\n",
    "TSLA_close.head(10)"
   ]
  },
  {
   "cell_type": "code",
   "execution_count": null,
   "id": "3fcd3861-da87-4f9a-83ab-10103b75c351",
   "metadata": {},
   "outputs": [],
   "source": [
    "TSLA_returns = TSLA_close.pct_change().dropna()\n",
    "TSLA_returns"
   ]
  },
  {
   "cell_type": "code",
   "execution_count": null,
   "id": "3f673814-a6fa-442b-aede-a6a488163e8d",
   "metadata": {},
   "outputs": [],
   "source": [
    "# Access to the News Api\n",
    "newsapi = NewsApiClient(api_key='ce3e78ab07ed4649a677e4da44c06a82')"
   ]
  },
  {
   "cell_type": "code",
   "execution_count": null,
   "id": "def76fcc-5134-4b77-ba17-58f160461214",
   "metadata": {},
   "outputs": [],
   "source": [
    "# Set current date and the date from one month ago using the ISO format\n",
    "current_date = pd.Timestamp(datetime.now(), tz=\"America/New_York\").isoformat()\n",
    "past_date = pd.Timestamp(datetime.now()- timedelta(30), tz=\"America/New_York\").isoformat()"
   ]
  },
  {
   "cell_type": "code",
   "execution_count": null,
   "id": "3187fc20-6321-44b5-b63b-160b7e9e9eca",
   "metadata": {},
   "outputs": [],
   "source": [
    "# Define a function to build news df\n",
    "def create_df(news, language):\n",
    "    articles = []\n",
    "    for article in news:\n",
    "        try:\n",
    "            title = article[\"title\"]\n",
    "            description = article[\"description\"]\n",
    "            text = article[\"content\"]\n",
    "            date = article[\"publishedAt\"][:10]\n",
    "\n",
    "            articles.append({\n",
    "                \"title\": title,\n",
    "                \"description\": description,\n",
    "                \"text\": text,\n",
    "                \"date\": date,\n",
    "                \"language\": language\n",
    "            })\n",
    "        except AttributeError:\n",
    "            pass\n",
    "\n",
    "    return pd.DataFrame(articles)"
   ]
  },
  {
   "cell_type": "code",
   "execution_count": null,
   "id": "83bb6fb8-9894-4ceb-938a-1bd8c5c59f2c",
   "metadata": {},
   "outputs": [],
   "source": [
    "# Pull all the Walmart Stock headlines data from 2008 \n",
    "TSLA_news_en = newsapi.get_everything(\n",
    "    q=\" TSLA AND Tesla AND 2008\",\n",
    "    language=\"en\"\n",
    ")"
   ]
  },
  {
   "cell_type": "code",
   "execution_count": null,
   "id": "91217e9e-8775-4038-8729-0ff20822cf57",
   "metadata": {},
   "outputs": [],
   "source": [
    "# Show the total number of news\n",
    "print(TSLA_news_en[\"totalResults\"])"
   ]
  },
  {
   "cell_type": "code",
   "execution_count": null,
   "id": "35a78b0e-9f2c-4534-ab67-b1f67421695f",
   "metadata": {},
   "outputs": [],
   "source": [
    "# Create a DataFrame with the Walmart News\n",
    "TSLA_en_df = create_df(TSLA_news_en[\"articles\"], \"en\")\n",
    "TSLA_en_df"
   ]
  },
  {
   "cell_type": "code",
   "execution_count": null,
   "id": "b9b4f6f4-badc-49bc-9311-a2516ae69091",
   "metadata": {},
   "outputs": [],
   "source": [
    "# Create CSV from News df\n",
    "TSLA_en_df.to_csv('/users/manu/desktop/project_2/TSLA_csv', index=False, encoding='utf-8-sig')"
   ]
  },
  {
   "cell_type": "code",
   "execution_count": null,
   "id": "2814d4d1-5a60-434f-a5a0-b86ba58d4dd4",
   "metadata": {},
   "outputs": [],
   "source": [
    "# define  sentiment analysis  \n",
    "TSLA_sentiment = []\n",
    "analyzer = SentimentIntensityAnalyzer()\n",
    "\n",
    "for article in TSLA_news_en['articles']:\n",
    "    try:\n",
    "        date = article[\"publishedAt\"][:10]\n",
    "        text = article[\"content\"][0:198]\n",
    "        sentiment = analyzer.polarity_scores(text)\n",
    "        pos = sentiment['pos']\n",
    "        neu = sentiment[\"neu\"]\n",
    "        neg = sentiment[\"neg\"]\n",
    "        compound = sentiment[\"compound\"] \n",
    "        \n",
    "        TSLA_sentiment.append({\n",
    "            \"text\": text,\n",
    "            \"date\": date,\n",
    "            \"positive\": pos,\n",
    "            \"neutral\": neu,\n",
    "            \"negative\": neg,\n",
    "            \"compound\": compound \n",
    "        })\n",
    "        \n",
    "    except AttributeError:\n",
    "        pass"
   ]
  },
  {
   "cell_type": "code",
   "execution_count": null,
   "id": "0650e92a-e7d2-406b-a3ec-50b2884cb1a0",
   "metadata": {},
   "outputs": [],
   "source": [
    "# Build a SIA DF\n",
    "TSLA_S_df = pd.DataFrame(TSLA_sentiment) \n",
    "cols = ['date', 'positive', 'neutral', 'negative', 'compound', 'text']\n",
    "TSLA_S_df = TSLA_S_df[cols] \n",
    "TSLA_S_df.describe()"
   ]
  },
  {
   "cell_type": "code",
   "execution_count": null,
   "id": "6172ab2e-0102-413a-bca7-2ce1a8f24aa2",
   "metadata": {},
   "outputs": [],
   "source": [
    "#Display a candle stick chart\n",
    "fig = go.Figure(data=[go.Candlestick(x=TSLA_df.index,\n",
    "                open=TSLA_df['Open'],\n",
    "                high=TSLA_df['High'],\n",
    "                low=TSLA_df['Low'],\n",
    "                close=TSLA_df['Close'])])\n",
    "\n",
    "fig.show()"
   ]
  },
  {
   "cell_type": "code",
   "execution_count": null,
   "id": "15692e58-57ae-4268-b7ad-107e633683f0",
   "metadata": {},
   "outputs": [],
   "source": []
  }
 ],
 "metadata": {
  "kernelspec": {
   "display_name": "Python 3",
   "language": "python",
   "name": "python3"
  },
  "language_info": {
   "codemirror_mode": {
    "name": "ipython",
    "version": 3
   },
   "file_extension": ".py",
   "mimetype": "text/x-python",
   "name": "python",
   "nbconvert_exporter": "python",
   "pygments_lexer": "ipython3",
   "version": "3.8.2"
  }
 },
 "nbformat": 4,
 "nbformat_minor": 5
}
