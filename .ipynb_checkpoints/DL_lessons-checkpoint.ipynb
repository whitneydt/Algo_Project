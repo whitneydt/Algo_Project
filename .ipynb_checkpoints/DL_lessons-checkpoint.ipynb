{
 "cells": [
  {
   "cell_type": "code",
   "execution_count": 2,
   "id": "2461ef80-f951-44d0-a569-261c93d03830",
   "metadata": {},
   "outputs": [],
   "source": [
    "import pandas as pd\n",
    "import tensorflow as tf\n",
    "from tensorflow import keras\n",
    "from tensorflow.keras.optimizers import Adam, SGD\n",
    "from tensorflow.keras import layers\n",
    "from tensorflow.keras.models import Sequential # Sets up a set of layers that're connected to one another\n",
    "from tensorflow.keras.layers import LSTM, Dense, Dropout # For Dense import, all added layers are neurons in one layer that're connected as inputs to all the inputs in the next layer.\n",
    "# For Dense import, weights remove the neurons that don't need to be connected. These values get pushed down close to 0.\n",
    "from sklearn.preprocessing import MinMaxScaler \n",
    "import matplotlib.pyplot as plt\n",
    "import seaborn as sns\n",
    "import numpy as np\n",
    "\n",
    "%matplotlib inline"
   ]
  },
  {
   "cell_type": "code",
   "execution_count": 3,
   "id": "572db929-b5d8-4afe-bfab-ff7ce3e46f63",
   "metadata": {},
   "outputs": [],
   "source": [
    "import yfinance as yf\n",
    "amd = yf.Ticker(\"AMD\")\n",
    "amd_hist = amd.history(period=\"13y\")\n"
   ]
  },
  {
   "cell_type": "code",
   "execution_count": 4,
   "id": "bf26955c-4836-4430-9494-1e2914357bdd",
   "metadata": {},
   "outputs": [],
   "source": [
    "amd_df = amd_hist.drop(columns=['Stock Splits', 'Dividends', 'Open', 'Volume', 'Low', 'High'])\n",
    "#amd_df"
   ]
  },
  {
   "cell_type": "code",
   "execution_count": 5,
   "id": "9f19ba99-ba61-4f3b-b3a4-225ed0bd2a49",
   "metadata": {},
   "outputs": [],
   "source": [
    "def window_data(amd_df, window, feat_col_num, trgt_col_num):\n",
    "    X = []\n",
    "    y = []\n",
    "    for i in range(len(amd_df) - window):\n",
    "        feats = amd_df.iloc[i : (i + window), feat_col_num]\n",
    "        trgt = amd_df.iloc[(i + window), trgt_col_num]\n",
    "        X.append(feats)\n",
    "        y.append(trgt)\n",
    "    return np.array(X), np.array(y).reshape(-1, 1)"
   ]
  },
  {
   "cell_type": "code",
   "execution_count": 6,
   "id": "bcd98f39-765b-49ac-9142-389789e75958",
   "metadata": {},
   "outputs": [],
   "source": [
    "# Feature & target data for the window_data() function.\n",
    "window_size = 14\n",
    "feat_col = 0\n",
    "trgt_col = 0\n",
    "# This can just be for training data. \n",
    "X, y = window_data(amd_df, window_size, feat_col, trgt_col) # Unrolling the time loop so each point gets its own time period.\n",
    "# e.g. If there's 100 time periods, there'd be 1400 time periods (Better for training, not testing)"
   ]
  },
  {
   "cell_type": "code",
   "execution_count": 7,
   "id": "f852d2f9-c97e-4f7b-b753-9025da748653",
   "metadata": {},
   "outputs": [
    {
     "data": {
      "text/plain": [
       "3273"
      ]
     },
     "execution_count": 7,
     "metadata": {},
     "output_type": "execute_result"
    }
   ],
   "source": [
    "# Everything still works up to this point\n",
    "len(amd_df)"
   ]
  },
  {
   "cell_type": "code",
   "execution_count": 12,
   "id": "59f69c6f-9c62-43b4-b67f-369e88b2961a",
   "metadata": {},
   "outputs": [],
   "source": [
    "# Below here, I could use the code below just for the test data\n",
    "split = int(.8 * len(X))\n",
    "X_train = X[: split]\n",
    "X_test = X[split:]\n",
    "\n",
    "y_split = int(.8 * len(y))\n",
    "y_train = y[: y_split]\n",
    "y_test = y[y_split:]"
   ]
  },
  {
   "cell_type": "code",
   "execution_count": 13,
   "id": "e0d45f1b-8ff6-4d7a-87a1-4b62ee60ab7b",
   "metadata": {},
   "outputs": [],
   "source": [
    "# Scaling data w/ MinMaxScaler so all the values can be between 0 & 1.\n",
    "from sklearn.preprocessing import MinMaxScaler\n",
    "\n",
    "scaler = MinMaxScaler()\n",
    "scaler.fit(X)\n",
    "X_train = scaler.transform(X_train)\n",
    "X_test = scaler.transform(X_test)\n",
    "scaler.fit(y)\n",
    "y_train = scaler.transform(y_train)\n",
    "y_test = scaler.transform(y_test)"
   ]
  },
  {
   "cell_type": "code",
   "execution_count": 14,
   "id": "782bcbaf-8d7b-4090-a186-42aa96555e82",
   "metadata": {},
   "outputs": [],
   "source": [
    "# Reshape the features for the model\n",
    "X_train = X_train.reshape((X_train.shape[0], X_train.shape[1], 1))\n",
    "X_test = X_test.reshape((X_test.shape[0], X_test.shape[1], 1))\n",
    "#y_train = y_train.reshape((y_train.shape[0], y_train.shape[1], 1))\n",
    "#y_test = y_test.reshape((y_test.shape[0], y_test.shape[1], 1))"
   ]
  },
  {
   "cell_type": "code",
   "execution_count": 15,
   "id": "a5e475cd-eb86-4e51-ac29-7335c2c3c105",
   "metadata": {},
   "outputs": [],
   "source": [
    "# LSTM RNN\n",
    "model = Sequential()\n",
    "\n",
    "# Input layer\n",
    "model.add(LSTM(14, return_sequences = True, input_shape=(X_train.shape[1], 1)))\n",
    "model.add(Dropout(.25))\n",
    "# 2nd layer\n",
    "model.add(LSTM(14, return_sequences = True))\n",
    "model.add(Dropout(.20))\n",
    "# 3rd layer\n",
    "model.add(LSTM(14))\n",
    "model.add(Dropout(.20))\n",
    "# Output layer\n",
    "model.add(Dense(1))"
   ]
  },
  {
   "cell_type": "code",
   "execution_count": 16,
   "id": "ba1322db-2a09-42f9-8c79-476b17a3c1f9",
   "metadata": {},
   "outputs": [],
   "source": [
    "# Compile the model & get more focused on the lag, instead of the accuracy.\n",
    "opt = Adam(learning_rate = .01)\n",
    "model.compile(metrics=['mae'], loss='mean_squared_error', optimizer=opt)"
   ]
  },
  {
   "cell_type": "code",
   "execution_count": 17,
   "id": "b0e78909-996a-44ba-acb7-6a2f30f89009",
   "metadata": {},
   "outputs": [
    {
     "name": "stdout",
     "output_type": "stream",
     "text": [
      "Model: \"sequential\"\n",
      "_________________________________________________________________\n",
      "Layer (type)                 Output Shape              Param #   \n",
      "=================================================================\n",
      "lstm (LSTM)                  (None, 14, 14)            896       \n",
      "_________________________________________________________________\n",
      "dropout (Dropout)            (None, 14, 14)            0         \n",
      "_________________________________________________________________\n",
      "lstm_1 (LSTM)                (None, 14, 14)            1624      \n",
      "_________________________________________________________________\n",
      "dropout_1 (Dropout)          (None, 14, 14)            0         \n",
      "_________________________________________________________________\n",
      "lstm_2 (LSTM)                (None, 14)                1624      \n",
      "_________________________________________________________________\n",
      "dropout_2 (Dropout)          (None, 14)                0         \n",
      "_________________________________________________________________\n",
      "dense (Dense)                (None, 1)                 15        \n",
      "=================================================================\n",
      "Total params: 4,159\n",
      "Trainable params: 4,159\n",
      "Non-trainable params: 0\n",
      "_________________________________________________________________\n"
     ]
    }
   ],
   "source": [
    "model.summary()"
   ]
  },
  {
   "cell_type": "code",
   "execution_count": 94,
   "id": "53395f4c-32d1-43c8-b3e3-13dd85dfee98",
   "metadata": {},
   "outputs": [
    {
     "name": "stdout",
     "output_type": "stream",
     "text": [
      "Epoch 1/10\n",
      "2607/2607 [==============================] - 23s 7ms/step - loss: 6.0116e-05 - mae: 0.0046 - accuracy: 3.8358e-04\n",
      "Epoch 2/10\n",
      "2607/2607 [==============================] - 19s 7ms/step - loss: 6.6593e-05 - mae: 0.0044 - accuracy: 3.8358e-04\n",
      "Epoch 3/10\n",
      "2607/2607 [==============================] - 19s 7ms/step - loss: 7.2528e-05 - mae: 0.0045 - accuracy: 3.8358e-04\n",
      "Epoch 4/10\n",
      "2607/2607 [==============================] - 19s 7ms/step - loss: 7.0687e-05 - mae: 0.0044 - accuracy: 3.8358e-04\n",
      "Epoch 5/10\n",
      "2607/2607 [==============================] - 19s 7ms/step - loss: 7.3297e-05 - mae: 0.0045 - accuracy: 3.8358e-04\n",
      "Epoch 6/10\n",
      "2607/2607 [==============================] - 20s 7ms/step - loss: 7.0150e-05 - mae: 0.0044 - accuracy: 3.8358e-04\n",
      "Epoch 7/10\n",
      "2607/2607 [==============================] - 20s 8ms/step - loss: 7.0180e-05 - mae: 0.0044 - accuracy: 3.8358e-04\n",
      "Epoch 8/10\n",
      "2607/2607 [==============================] - 20s 7ms/step - loss: 7.0070e-05 - mae: 0.0044 - accuracy: 3.8358e-04\n",
      "Epoch 9/10\n",
      "2607/2607 [==============================] - 20s 7ms/step - loss: 7.0075e-05 - mae: 0.0044 - accuracy: 3.8358e-04\n",
      "Epoch 10/10\n",
      "2607/2607 [==============================] - 19s 7ms/step - loss: 7.0033e-05 - mae: 0.0044 - accuracy: 3.8358e-04\n"
     ]
    },
    {
     "data": {
      "text/plain": [
       "<tensorflow.python.keras.callbacks.History at 0x1b60792fe50>"
      ]
     },
     "execution_count": 94,
     "metadata": {},
     "output_type": "execute_result"
    }
   ],
   "source": [
    "model.fit(X_train, y_train, epochs=10, shuffle=False, batch_size=1, verbose=1)"
   ]
  },
  {
   "cell_type": "code",
   "execution_count": 80,
   "id": "8523f592-4516-44c0-bec9-0aa62ea295ef",
   "metadata": {
    "tags": []
   },
   "outputs": [],
   "source": [
    "#model.evaluate(X_test, y_test)"
   ]
  },
  {
   "cell_type": "code",
   "execution_count": 52,
   "id": "c62234d0-e4d9-479c-8d60-83381124a849",
   "metadata": {},
   "outputs": [
    {
     "data": {
      "text/plain": [
       "(2281, 1, 1)"
      ]
     },
     "execution_count": 52,
     "metadata": {},
     "output_type": "execute_result"
    }
   ],
   "source": [
    "y_test.shape"
   ]
  },
  {
   "cell_type": "code",
   "execution_count": 53,
   "id": "b17f1406-8d0c-4d6d-b70e-9ed48ef379f7",
   "metadata": {},
   "outputs": [
    {
     "data": {
      "text/plain": [
       "(978, 14, 1)"
      ]
     },
     "execution_count": 53,
     "metadata": {},
     "output_type": "execute_result"
    }
   ],
   "source": [
    "X_test.shape"
   ]
  },
  {
   "cell_type": "code",
   "execution_count": 83,
   "id": "abc17253-6a71-46b2-82e5-a90071bc42d9",
   "metadata": {
    "tags": []
   },
   "outputs": [
    {
     "ename": "ValueError",
     "evalue": "cannot reshape array of size 1 into shape (2281,6)",
     "output_type": "error",
     "traceback": [
      "\u001b[1;31m---------------------------------------------------------------------------\u001b[0m",
      "\u001b[1;31mValueError\u001b[0m                                Traceback (most recent call last)",
      "\u001b[1;32m<ipython-input-83-50e3f26ccec1>\u001b[0m in \u001b[0;36m<module>\u001b[1;34m\u001b[0m\n\u001b[1;32m----> 1\u001b[1;33m \u001b[0my_test\u001b[0m \u001b[1;33m=\u001b[0m \u001b[0mnp\u001b[0m\u001b[1;33m.\u001b[0m\u001b[0mreshape\u001b[0m\u001b[1;33m(\u001b[0m\u001b[1;34m'y_test'\u001b[0m\u001b[1;33m,\u001b[0m \u001b[1;33m[\u001b[0m\u001b[1;33m-\u001b[0m\u001b[1;36m1\u001b[0m\u001b[1;33m,\u001b[0m \u001b[1;36m2281\u001b[0m\u001b[1;33m,\u001b[0m \u001b[1;36m6\u001b[0m\u001b[1;33m]\u001b[0m\u001b[1;33m)\u001b[0m\u001b[1;33m\u001b[0m\u001b[1;33m\u001b[0m\u001b[0m\n\u001b[0m",
      "\u001b[1;32m<__array_function__ internals>\u001b[0m in \u001b[0;36mreshape\u001b[1;34m(*args, **kwargs)\u001b[0m\n",
      "\u001b[1;32mC:\\ProgramData\\Anaconda3\\envs\\tailoredenv\\lib\\site-packages\\numpy\\core\\fromnumeric.py\u001b[0m in \u001b[0;36mreshape\u001b[1;34m(a, newshape, order)\u001b[0m\n\u001b[0;32m    297\u001b[0m            [5, 6]])\n\u001b[0;32m    298\u001b[0m     \"\"\"\n\u001b[1;32m--> 299\u001b[1;33m     \u001b[1;32mreturn\u001b[0m \u001b[0m_wrapfunc\u001b[0m\u001b[1;33m(\u001b[0m\u001b[0ma\u001b[0m\u001b[1;33m,\u001b[0m \u001b[1;34m'reshape'\u001b[0m\u001b[1;33m,\u001b[0m \u001b[0mnewshape\u001b[0m\u001b[1;33m,\u001b[0m \u001b[0morder\u001b[0m\u001b[1;33m=\u001b[0m\u001b[0morder\u001b[0m\u001b[1;33m)\u001b[0m\u001b[1;33m\u001b[0m\u001b[1;33m\u001b[0m\u001b[0m\n\u001b[0m\u001b[0;32m    300\u001b[0m \u001b[1;33m\u001b[0m\u001b[0m\n\u001b[0;32m    301\u001b[0m \u001b[1;33m\u001b[0m\u001b[0m\n",
      "\u001b[1;32mC:\\ProgramData\\Anaconda3\\envs\\tailoredenv\\lib\\site-packages\\numpy\\core\\fromnumeric.py\u001b[0m in \u001b[0;36m_wrapfunc\u001b[1;34m(obj, method, *args, **kwds)\u001b[0m\n\u001b[0;32m     53\u001b[0m     \u001b[0mbound\u001b[0m \u001b[1;33m=\u001b[0m \u001b[0mgetattr\u001b[0m\u001b[1;33m(\u001b[0m\u001b[0mobj\u001b[0m\u001b[1;33m,\u001b[0m \u001b[0mmethod\u001b[0m\u001b[1;33m,\u001b[0m \u001b[1;32mNone\u001b[0m\u001b[1;33m)\u001b[0m\u001b[1;33m\u001b[0m\u001b[1;33m\u001b[0m\u001b[0m\n\u001b[0;32m     54\u001b[0m     \u001b[1;32mif\u001b[0m \u001b[0mbound\u001b[0m \u001b[1;32mis\u001b[0m \u001b[1;32mNone\u001b[0m\u001b[1;33m:\u001b[0m\u001b[1;33m\u001b[0m\u001b[1;33m\u001b[0m\u001b[0m\n\u001b[1;32m---> 55\u001b[1;33m         \u001b[1;32mreturn\u001b[0m \u001b[0m_wrapit\u001b[0m\u001b[1;33m(\u001b[0m\u001b[0mobj\u001b[0m\u001b[1;33m,\u001b[0m \u001b[0mmethod\u001b[0m\u001b[1;33m,\u001b[0m \u001b[1;33m*\u001b[0m\u001b[0margs\u001b[0m\u001b[1;33m,\u001b[0m \u001b[1;33m**\u001b[0m\u001b[0mkwds\u001b[0m\u001b[1;33m)\u001b[0m\u001b[1;33m\u001b[0m\u001b[1;33m\u001b[0m\u001b[0m\n\u001b[0m\u001b[0;32m     56\u001b[0m \u001b[1;33m\u001b[0m\u001b[0m\n\u001b[0;32m     57\u001b[0m     \u001b[1;32mtry\u001b[0m\u001b[1;33m:\u001b[0m\u001b[1;33m\u001b[0m\u001b[1;33m\u001b[0m\u001b[0m\n",
      "\u001b[1;32mC:\\ProgramData\\Anaconda3\\envs\\tailoredenv\\lib\\site-packages\\numpy\\core\\fromnumeric.py\u001b[0m in \u001b[0;36m_wrapit\u001b[1;34m(obj, method, *args, **kwds)\u001b[0m\n\u001b[0;32m     42\u001b[0m     \u001b[1;32mexcept\u001b[0m \u001b[0mAttributeError\u001b[0m\u001b[1;33m:\u001b[0m\u001b[1;33m\u001b[0m\u001b[1;33m\u001b[0m\u001b[0m\n\u001b[0;32m     43\u001b[0m         \u001b[0mwrap\u001b[0m \u001b[1;33m=\u001b[0m \u001b[1;32mNone\u001b[0m\u001b[1;33m\u001b[0m\u001b[1;33m\u001b[0m\u001b[0m\n\u001b[1;32m---> 44\u001b[1;33m     \u001b[0mresult\u001b[0m \u001b[1;33m=\u001b[0m \u001b[0mgetattr\u001b[0m\u001b[1;33m(\u001b[0m\u001b[0masarray\u001b[0m\u001b[1;33m(\u001b[0m\u001b[0mobj\u001b[0m\u001b[1;33m)\u001b[0m\u001b[1;33m,\u001b[0m \u001b[0mmethod\u001b[0m\u001b[1;33m)\u001b[0m\u001b[1;33m(\u001b[0m\u001b[1;33m*\u001b[0m\u001b[0margs\u001b[0m\u001b[1;33m,\u001b[0m \u001b[1;33m**\u001b[0m\u001b[0mkwds\u001b[0m\u001b[1;33m)\u001b[0m\u001b[1;33m\u001b[0m\u001b[1;33m\u001b[0m\u001b[0m\n\u001b[0m\u001b[0;32m     45\u001b[0m     \u001b[1;32mif\u001b[0m \u001b[0mwrap\u001b[0m\u001b[1;33m:\u001b[0m\u001b[1;33m\u001b[0m\u001b[1;33m\u001b[0m\u001b[0m\n\u001b[0;32m     46\u001b[0m         \u001b[1;32mif\u001b[0m \u001b[1;32mnot\u001b[0m \u001b[0misinstance\u001b[0m\u001b[1;33m(\u001b[0m\u001b[0mresult\u001b[0m\u001b[1;33m,\u001b[0m \u001b[0mmu\u001b[0m\u001b[1;33m.\u001b[0m\u001b[0mndarray\u001b[0m\u001b[1;33m)\u001b[0m\u001b[1;33m:\u001b[0m\u001b[1;33m\u001b[0m\u001b[1;33m\u001b[0m\u001b[0m\n",
      "\u001b[1;31mValueError\u001b[0m: cannot reshape array of size 1 into shape (2281,6)"
     ]
    }
   ],
   "source": [
    "y_test = np.reshape('y_test', [-1, 2281, 6]) # -1 is to match & get the correct number of observations\n",
    "# Reread reshape documentation on the components"
   ]
  },
  {
   "cell_type": "code",
   "execution_count": null,
   "id": "5be4c734-8728-4da4-b7d4-0703d5b66b99",
   "metadata": {},
   "outputs": [],
   "source": []
  }
 ],
 "metadata": {
  "kernelspec": {
   "display_name": "tailoredenv",
   "language": "python",
   "name": "tailoredenv"
  },
  "language_info": {
   "codemirror_mode": {
    "name": "ipython",
    "version": 3
   },
   "file_extension": ".py",
   "mimetype": "text/x-python",
   "name": "python",
   "nbconvert_exporter": "python",
   "pygments_lexer": "ipython3",
   "version": "3.8.5"
  }
 },
 "nbformat": 4,
 "nbformat_minor": 5
}
