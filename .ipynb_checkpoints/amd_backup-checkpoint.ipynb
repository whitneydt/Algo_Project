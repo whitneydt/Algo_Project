{
 "cells": [
  {
   "cell_type": "code",
   "execution_count": 2,
   "id": "c6e630b7-4d3a-43ea-bbcd-3a88d2405b56",
   "metadata": {},
   "outputs": [],
   "source": [
    "import pandas as pd\n",
    "import tensorflow as tf\n",
    "from tensorflow import keras\n",
    "from tensorflow.keras import layers\n",
    "from tensorflow.keras.models import Sequential \n",
    "from tensorflow.keras.layers import LSTM, Dense, Dropout # For Dense import, all added layers are neurons in one layer that're connected as inputs to all the inputs in the next layer.\n",
    "# For Dense import, weights remove the neurons that don't need to be connected. These values get pushed down close to 0.\n",
    "from tensorflow.keras.optimizers import Adam, SGD\n",
    "import matplotlib.pyplot as plt\n",
    "import seaborn as sns\n",
    "import numpy as np\n",
    "from sklearn.model_selection import train_test_split\n",
    "from sklearn.preprocessing import StandardScaler\n",
    "from sklearn.compose import ColumnTransformer\n",
    "from tensorflow.keras.layers import InputLayer\n",
    "from sklearn.preprocessing import Normalizer\n",
    "%matplotlib inline"
   ]
  },
  {
   "cell_type": "code",
   "execution_count": 7,
   "id": "8fd2e7ad-b3f1-46c6-9298-35ee91359965",
   "metadata": {
    "tags": []
   },
   "outputs": [],
   "source": [
    "import yfinance as yf\n",
    "amd = yf.Ticker(\"AMD\")\n",
    "amd_hist = amd.history(period=\"13y\")\n",
    "#amd_hist\n",
    "#amd.info # Stored in a dictionary with all kinds of info on the company"
   ]
  },
  {
   "cell_type": "code",
   "execution_count": 9,
   "id": "03f9f051-af01-4ac4-b354-42371ea7927d",
   "metadata": {
    "tags": []
   },
   "outputs": [],
   "source": [
    "amd_df = amd_hist.drop(columns=['Stock Splits', 'Dividends', 'Open', 'Volume'])\n",
    "#amd_df"
   ]
  },
  {
   "cell_type": "code",
   "execution_count": 10,
   "id": "2a540d95-48cd-41cb-b11b-99673a7e61d2",
   "metadata": {},
   "outputs": [],
   "source": [
    "# Split for features & target\n",
    "X = amd_df.iloc[:, 0:3]\n",
    "y = amd_df.iloc[:,-1]\n",
    "# X = pd.get_dummies(X) Not needed since all columns are already numerical values\n",
    "# Training gets 80%, testing gets 20%\n",
    "X_train, X_test, y_train, y_test = train_test_split(X, y, test_size=0.20, random_state=40)\n",
    "# Normalize works better \n",
    "y_column_transform = ColumnTransformer([('normalize', Normalizer(), [('Close')])])\n",
    "X_column_transform = ColumnTransformer([('normalize', Normalizer(), ['High','Low','Close'])], remainder='passthrough')"
   ]
  },
  {
   "cell_type": "code",
   "execution_count": 11,
   "id": "6e6820a7-f44c-4ac5-ab9f-8511950e4965",
   "metadata": {},
   "outputs": [],
   "source": [
    "X_train_scaled = X_column_transform.fit_transform(X_train)\n",
    "X_test_scaled = X_column_transform.transform(X_test)"
   ]
  },
  {
   "cell_type": "code",
   "execution_count": 12,
   "id": "27a785ab-6380-4704-a8f5-f13d19b5e786",
   "metadata": {},
   "outputs": [],
   "source": [
    "X_train_scaled = pd.DataFrame(X_train_scaled, columns = X_train.columns)\n",
    "X_test_scaled = pd.DataFrame(X_test_scaled, columns = X_test.columns)"
   ]
  },
  {
   "cell_type": "code",
   "execution_count": 13,
   "id": "f087a299-373f-4ab1-884c-5ec745cbe041",
   "metadata": {},
   "outputs": [
    {
     "data": {
      "text/plain": [
       "(655, 3)"
      ]
     },
     "execution_count": 13,
     "metadata": {},
     "output_type": "execute_result"
    }
   ],
   "source": [
    "#print(X_test_scaled.describe())\n",
    "X_test_scaled.shape"
   ]
  },
  {
   "cell_type": "code",
   "execution_count": 14,
   "id": "e127fdfe-b3c0-4183-9b55-2f0d3e4b1a1e",
   "metadata": {},
   "outputs": [
    {
     "data": {
      "text/plain": [
       "(2619, 3)"
      ]
     },
     "execution_count": 14,
     "metadata": {},
     "output_type": "execute_result"
    }
   ],
   "source": [
    "#print(X_train_scaled.describe())\n",
    "X_train_scaled.shape"
   ]
  },
  {
   "cell_type": "code",
   "execution_count": 20,
   "id": "10bf864a-5c2f-4791-8ec4-bec457acc8f1",
   "metadata": {
    "tags": []
   },
   "outputs": [],
   "source": [
    "# Sequential model\n",
    "def sequential_model(X):\n",
    "    model = keras.Sequential()\n",
    "    # Currently unsure of how to add in the intended 3D structure that LSTM layers typically have (Samples, Time Steps, Features)\n",
    "    input_layer = InputLayer(input_shape = (X.shape[1],), name = 'layer1')\n",
    "    model.add(input_layer)\n",
    "    # Hidden layer\n",
    "    model.add(Dense(64, activation='tanh'))\n",
    "    # Output layer\n",
    "    model.add(Dense(3))\n",
    "    return model"
   ]
  },
  {
   "cell_type": "code",
   "execution_count": 23,
   "id": "dcd4137b-a720-4d74-aac2-4182bef7ca83",
   "metadata": {},
   "outputs": [
    {
     "name": "stdout",
     "output_type": "stream",
     "text": [
      "Model: \"sequential_2\"\n",
      "_________________________________________________________________\n",
      "Layer (type)                 Output Shape              Param #   \n",
      "=================================================================\n",
      "dense_4 (Dense)              (None, 64)                256       \n",
      "_________________________________________________________________\n",
      "dense_5 (Dense)              (None, 3)                 195       \n",
      "=================================================================\n",
      "Total params: 451\n",
      "Trainable params: 451\n",
      "Non-trainable params: 0\n",
      "_________________________________________________________________\n"
     ]
    }
   ],
   "source": [
    "model.summary()"
   ]
  },
  {
   "cell_type": "code",
   "execution_count": 21,
   "id": "705996f0-cb8b-49c7-bf43-f8ff386fe858",
   "metadata": {},
   "outputs": [],
   "source": [
    "model = sequential_model(X_train_scaled)\n",
    "# To check that the list is empty: print(model.layers)\n",
    "# print(model.summary())\n",
    "model.compile(loss = 'mse', metrics = ['mae'], optimizer = Adam(learning_rate = 0.01))"
   ]
  },
  {
   "cell_type": "code",
   "execution_count": 22,
   "id": "ecea20aa-c9f2-44d6-a6ce-a7774528f5e9",
   "metadata": {
    "collapsed": true,
    "jupyter": {
     "outputs_hidden": true
    },
    "tags": []
   },
   "outputs": [
    {
     "name": "stdout",
     "output_type": "stream",
     "text": [
      "Epoch 1/25\n",
      "873/873 [==============================] - 1s 438us/step - loss: 206.1062 - mae: 7.0342\n",
      "Epoch 2/25\n",
      "873/873 [==============================] - 0s 440us/step - loss: 106.3249 - mae: 4.9732\n",
      "Epoch 3/25\n",
      "873/873 [==============================] - 0s 447us/step - loss: 85.0807 - mae: 4.6701\n",
      "Epoch 4/25\n",
      "873/873 [==============================] - 0s 455us/step - loss: 122.1719 - mae: 5.4715\n",
      "Epoch 5/25\n",
      "873/873 [==============================] - 0s 441us/step - loss: 87.4621 - mae: 4.8538\n",
      "Epoch 6/25\n",
      "873/873 [==============================] - 0s 444us/step - loss: 135.0415 - mae: 6.9039\n",
      "Epoch 7/25\n",
      "873/873 [==============================] - 0s 464us/step - loss: 96.1152 - mae: 5.3188\n",
      "Epoch 8/25\n",
      "873/873 [==============================] - 0s 449us/step - loss: 67.4516 - mae: 4.3020\n",
      "Epoch 9/25\n",
      "873/873 [==============================] - 0s 450us/step - loss: 107.2120 - mae: 4.8847\n",
      "Epoch 10/25\n",
      "873/873 [==============================] - 0s 447us/step - loss: 91.9297 - mae: 5.0484\n",
      "Epoch 11/25\n",
      "873/873 [==============================] - 0s 434us/step - loss: 60.6533 - mae: 3.9717\n",
      "Epoch 12/25\n",
      "873/873 [==============================] - 0s 432us/step - loss: 81.1235 - mae: 4.9954\n",
      "Epoch 13/25\n",
      "873/873 [==============================] - 0s 437us/step - loss: 101.9090 - mae: 5.6926\n",
      "Epoch 14/25\n",
      "873/873 [==============================] - 0s 441us/step - loss: 111.9730 - mae: 6.1477\n",
      "Epoch 15/25\n",
      "873/873 [==============================] - 0s 440us/step - loss: 71.2822 - mae: 4.8340\n",
      "Epoch 16/25\n",
      "873/873 [==============================] - 0s 439us/step - loss: 76.9920 - mae: 5.4990\n",
      "Epoch 17/25\n",
      "873/873 [==============================] - 0s 448us/step - loss: 102.0854 - mae: 5.7257\n",
      "Epoch 18/25\n",
      "873/873 [==============================] - 0s 439us/step - loss: 46.5580 - mae: 3.6465\n",
      "Epoch 19/25\n",
      "873/873 [==============================] - 0s 440us/step - loss: 94.9925 - mae: 5.6512\n",
      "Epoch 20/25\n",
      "873/873 [==============================] - 0s 438us/step - loss: 60.3666 - mae: 4.1836\n",
      "Epoch 21/25\n",
      "873/873 [==============================] - 0s 435us/step - loss: 51.9688 - mae: 3.7636\n",
      "Epoch 22/25\n",
      "873/873 [==============================] - 0s 435us/step - loss: 42.2055 - mae: 3.3247\n",
      "Epoch 23/25\n",
      "873/873 [==============================] - 0s 440us/step - loss: 149.6964 - mae: 6.6457\n",
      "Epoch 24/25\n",
      "873/873 [==============================] - 0s 435us/step - loss: 160.7917 - mae: 6.8821\n",
      "Epoch 25/25\n",
      "873/873 [==============================] - 0s 435us/step - loss: 159.7339 - mae: 6.5616\n"
     ]
    }
   ],
   "source": [
    "model.fit(X_train, y_train, epochs=25, batch_size = 3, verbose=1)\n",
    "val_mse, val_mae = model.evaluate(X_train_scaled, y_train, verbose = 0)"
   ]
  },
  {
   "cell_type": "code",
   "execution_count": 26,
   "id": "dad324f7-d167-43d1-a25c-d1d3f5bdabc2",
   "metadata": {},
   "outputs": [
    {
     "name": "stdout",
     "output_type": "stream",
     "text": [
      "21/21 [==============================] - 0s 450us/step\n"
     ]
    },
    {
     "name": "stderr",
     "output_type": "stream",
     "text": [
      "C:\\ProgramData\\Anaconda3\\envs\\tailoredenv\\lib\\site-packages\\tensorflow\\python\\keras\\engine\\sequential.py:455: UserWarning: `model.predict_classes()` is deprecated and will be removed after 2021-01-01. Please use instead:* `np.argmax(model.predict(x), axis=-1)`,   if your model does multi-class classification   (e.g. if it uses a `softmax` last-layer activation).* `(model.predict(x) > 0.5).astype(\"int32\")`,   if your model does binary classification   (e.g. if it uses a `sigmoid` last-layer activation).\n",
      "  warnings.warn('`model.predict_classes()` is deprecated and '\n"
     ]
    }
   ],
   "source": [
    "test_predict = model.predict_classes(X_test_scaled, batch_size=32, verbose=1)"
   ]
  },
  {
   "cell_type": "code",
   "execution_count": 27,
   "id": "07e3b44c-21dc-4027-96a3-86b4d24b6ee0",
   "metadata": {},
   "outputs": [
    {
     "name": "stdout",
     "output_type": "stream",
     "text": [
      "[<tf.Variable 'dense_6/kernel:0' shape=(3, 2618) dtype=float32, numpy=\n",
      "array([[ 0.04584765, -0.0211649 , -0.03024502, ..., -0.01228375,\n",
      "        -0.01559138, -0.00626448],\n",
      "       [ 0.04046123, -0.00342837,  0.02446431, ..., -0.04512727,\n",
      "        -0.0289013 ,  0.03293937],\n",
      "       [ 0.00104909, -0.03528251,  0.01517603, ...,  0.01383283,\n",
      "         0.02787562,  0.00581347]], dtype=float32)>, <tf.Variable 'dense_6/bias:0' shape=(2618,) dtype=float32, numpy=array([0., 0., 0., ..., 0., 0., 0.], dtype=float32)>]\n"
     ]
    }
   ],
   "source": [
    "# Neurons for the layer\n",
    "layer = layers.Dense(2618)\n",
    "inputz = tf.ones((2618, 3))\n",
    "output = layer(inputz)\n",
    "print(layer.weights)"
   ]
  },
  {
   "cell_type": "code",
   "execution_count": null,
   "id": "69f0781b-d56e-4071-89c0-72b72e351530",
   "metadata": {},
   "outputs": [],
   "source": []
  },
  {
   "cell_type": "code",
   "execution_count": null,
   "id": "1f8fe203-d1ce-406f-9309-61373253df26",
   "metadata": {},
   "outputs": [],
   "source": []
  }
 ],
 "metadata": {
  "kernelspec": {
   "display_name": "tailoredenv",
   "language": "python",
   "name": "tailoredenv"
  },
  "language_info": {
   "codemirror_mode": {
    "name": "ipython",
    "version": 3
   },
   "file_extension": ".py",
   "mimetype": "text/x-python",
   "name": "python",
   "nbconvert_exporter": "python",
   "pygments_lexer": "ipython3",
   "version": "3.8.5"
  }
 },
 "nbformat": 4,
 "nbformat_minor": 5
}
