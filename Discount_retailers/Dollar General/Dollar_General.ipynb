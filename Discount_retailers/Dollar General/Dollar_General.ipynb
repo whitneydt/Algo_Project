# Show imports
import numpy as np
import pandas as pd
import yfinance as yf
import hvplot.pandas
import plotly.graph_objs as go
from newsapi.newsapi_client import NewsApiClient
from nltk.sentiment.vader import SentimentIntensityAnalyzer
from pathlib import Path
import os
from datetime import datetime, timedelta
import pandas as pd
import mplfinance as mpf

#pull data from yahoo finance
data =yf.download(tickers='DG', period='max', interval = '1d', start='2007-01-01')

# Show Data
print(data)

# build dataframe

DG_df = pd.DataFrame(data)
DG_df.head(10)

# change df to csv
DG_csv = DG_df.to_csv('/users/manu/desktop/project_2/DG_csv', index=True)

#Show the df
DG_df.head(10)

#Show Close Only
DG_close = DG_df.drop(columns =['Open','High','Low','Adj Close','Volume'])
DG_close.head(10)

DG_returns = DG_close.pct_change().dropna()
DG_returns

# Access to the News Api
newsapi = NewsApiClient(api_key='ce3e78ab07ed4649a677e4da44c06a82')

# Set current date and the date from one month ago using the ISO format
current_date = pd.Timestamp(datetime.now(), tz="America/New_York").isoformat()
past_date = pd.Timestamp(datetime.now()- timedelta(30), tz="America/New_York").isoformat()

# Define a function to build news df
def create_df(news, language):
    articles = []
    for article in news:
        try:
            title = article["title"]
            description = article["description"]
            text = article["content"]
            date = article["publishedAt"][:10]

            articles.append({
                "title": title,
                "description": description,
                "text": text,
                "date": date,
                "language": language
            })
        except AttributeError:
            pass

    return pd.DataFrame(articles)

# Pull all the Dollar General Stock headlines data from 2008 
DG_news_en = newsapi.get_everything(
    q=" DG AND Dollar General AND 2008",
    language="en"
)

# Show the total number of news
print(DG_news_en["totalResults"])

# Create a DataFrame with the Dollar General News
DG_en_df = create_df(DG_news_en["articles"], "en")
DG_en_df

# Create CSV from News df
DG_en_df.to_csv('/users/manu/desktop/project_2/DG_csv', index=False, encoding='utf-8-sig')

# define  sentiment analysis  
DG_sentiment = []
analyzer = SentimentIntensityAnalyzer()

for article in DG_news_en['articles']:
    try:
        date = article["publishedAt"][:10]
        text = article["content"][0:198]
        sentiment = analyzer.polarity_scores(text)
        pos = sentiment['pos']
        neu = sentiment["neu"]
        neg = sentiment["neg"]
        compound = sentiment["compound"] 
        
        DG_sentiment.append({
            "text": text,
            "date": date,
            "positive": pos,
            "neutral": neu,
            "negative": neg,
            "compound": compound 
        })
        
    except AttributeError:
        pass

# Build a SIA DF
DG_S_df = pd.DataFrame(DG_sentiment) 
cols = ['date', 'positive', 'neutral', 'negative', 'compound', 'text']
DG_S_df = DG_S_df[cols] 
DG_S_df.describe()

#Display a candle stick chart
fig = go.Figure(data=[go.Candlestick(x=DG_df.index,
                open=DG_df['Open'],
                high=DG_df['High'],
                low=DG_df['Low'],
                close=DG_df['Close'])])

fig.show()
